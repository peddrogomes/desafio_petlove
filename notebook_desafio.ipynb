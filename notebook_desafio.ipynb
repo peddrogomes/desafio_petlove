{
 "cells": [
  {
   "cell_type": "markdown",
   "id": "efc02513",
   "metadata": {},
   "source": [
    "# Desafio PetLove:\n",
    "#### Candidato: Pedro Gomes"
   ]
  },
  {
   "cell_type": "markdown",
   "id": "1304de9e",
   "metadata": {},
   "source": [
    "#### Sobre o desafio:\n",
    "\n",
    "Seu desafio é participar da equipe de Assinatura, serviço onde o dono do animal programa a entrega de um conjunto de itens dentro de um período customizado, recebendo descontos e brindes exclusivos para assinantes.\n",
    "\n",
    "A equipe de assinaturas tem como objetivo reduzir a perda de assinantes. O conceito de “Churn” refere-se a perda de qualquer usuário que assinou o serviço de assinatura da Petlove e o cancelou em algum momento após a contratação.\n",
    "\n",
    "Ao analisar os dados dos últimos meses, apesar de todas as melhorias de usabilidade da plataforma, o churn vem aumentando.\n",
    "\n",
    "Seu trabalho será apresentar um resultado final com DOIS pontos principais: Quais são os Aprendizados da sua análise dos dados e o que sugere como Próximos Passos."
   ]
  },
  {
   "cell_type": "markdown",
   "id": "170ed8c1",
   "metadata": {},
   "source": [
    "## Leitura do dataset:"
   ]
  },
  {
   "cell_type": "code",
   "execution_count": 1,
   "id": "e105c131",
   "metadata": {},
   "outputs": [],
   "source": [
    "import pandas as pd\n",
    "import numpy as np\n",
    "import matplotlib as plt\n",
    "import seaborn as sns"
   ]
  },
  {
   "cell_type": "code",
   "execution_count": 2,
   "id": "d781043a",
   "metadata": {},
   "outputs": [],
   "source": [
    "data=pd.read_csv('data-test-analytics.csv')"
   ]
  },
  {
   "cell_type": "code",
   "execution_count": 3,
   "id": "4cbaf062",
   "metadata": {},
   "outputs": [
    {
     "data": {
      "text/html": [
       "<div>\n",
       "<style scoped>\n",
       "    .dataframe tbody tr th:only-of-type {\n",
       "        vertical-align: middle;\n",
       "    }\n",
       "\n",
       "    .dataframe tbody tr th {\n",
       "        vertical-align: top;\n",
       "    }\n",
       "\n",
       "    .dataframe thead th {\n",
       "        text-align: right;\n",
       "    }\n",
       "</style>\n",
       "<table border=\"1\" class=\"dataframe\">\n",
       "  <thead>\n",
       "    <tr style=\"text-align: right;\">\n",
       "      <th></th>\n",
       "      <th>id</th>\n",
       "      <th>created_at</th>\n",
       "      <th>updated_at</th>\n",
       "      <th>deleted_at</th>\n",
       "      <th>name_hash</th>\n",
       "      <th>email_hash</th>\n",
       "      <th>address_hash</th>\n",
       "      <th>birth_date</th>\n",
       "      <th>status</th>\n",
       "      <th>version</th>\n",
       "      <th>city</th>\n",
       "      <th>state</th>\n",
       "      <th>neighborhood</th>\n",
       "      <th>last_date_purchase</th>\n",
       "      <th>average_ticket</th>\n",
       "      <th>items_quantity</th>\n",
       "      <th>all_revenue</th>\n",
       "      <th>all_orders</th>\n",
       "      <th>recency</th>\n",
       "      <th>marketing_source</th>\n",
       "    </tr>\n",
       "  </thead>\n",
       "  <tbody>\n",
       "    <tr>\n",
       "      <th>0</th>\n",
       "      <td>8bf7960e-3b93-468b-856e-6c6c5b56f52b</td>\n",
       "      <td>2017-08-15 07:05:04.000000</td>\n",
       "      <td>2021-01-14 11:23:50.659119</td>\n",
       "      <td>NaN</td>\n",
       "      <td>312d206168a318614897e8ccac43bff9</td>\n",
       "      <td>83eb3aed9a44377df80ce876dce92c9a</td>\n",
       "      <td>8b4bfaa0cbc41a16f46da15ddcd6a907</td>\n",
       "      <td>1974-07-10 00:00:00.000000</td>\n",
       "      <td>active</td>\n",
       "      <td>2.31.7</td>\n",
       "      <td>Peixoto da Praia</td>\n",
       "      <td>AM</td>\n",
       "      <td>Aparecida 7ª Seção</td>\n",
       "      <td>2021-01-14 11:23:50.659119</td>\n",
       "      <td>151.142942</td>\n",
       "      <td>10</td>\n",
       "      <td>906.857651</td>\n",
       "      <td>6</td>\n",
       "      <td>35</td>\n",
       "      <td>crm</td>\n",
       "    </tr>\n",
       "    <tr>\n",
       "      <th>1</th>\n",
       "      <td>a39535b5-4647-4680-b4f6-3aed57c1f1ff</td>\n",
       "      <td>2019-12-31 21:53:34.000000</td>\n",
       "      <td>2021-01-08 11:23:50.660183</td>\n",
       "      <td>NaN</td>\n",
       "      <td>de448fcb47d0d6a873b2eef52b5ee595</td>\n",
       "      <td>72678bb35e2ac84ed373e81dd9dca28c</td>\n",
       "      <td>22f1cfa1847f38da3f3cb114dd2b9247</td>\n",
       "      <td>1940-07-06 00:00:00.000000</td>\n",
       "      <td>paused</td>\n",
       "      <td>3.30.12</td>\n",
       "      <td>Fernandes</td>\n",
       "      <td>RR</td>\n",
       "      <td>Santa Isabel</td>\n",
       "      <td>2021-01-08 11:23:50.660183</td>\n",
       "      <td>236.991790</td>\n",
       "      <td>4</td>\n",
       "      <td>236.991790</td>\n",
       "      <td>1</td>\n",
       "      <td>41</td>\n",
       "      <td>organic_search</td>\n",
       "    </tr>\n",
       "    <tr>\n",
       "      <th>2</th>\n",
       "      <td>dc067cd2-c021-42bd-8c0e-beb267280e66</td>\n",
       "      <td>2019-03-07 23:46:51.000000</td>\n",
       "      <td>2021-01-07 11:23:50.660990</td>\n",
       "      <td>NaN</td>\n",
       "      <td>cb09e447ddc38283373d56bb46498e6a</td>\n",
       "      <td>668f4ee9add29c7bd02c485f1b7509e3</td>\n",
       "      <td>6cb47446a086ee6483b3eb954f11467a</td>\n",
       "      <td>1963-03-18 00:00:00.000000</td>\n",
       "      <td>active</td>\n",
       "      <td>3.28.9</td>\n",
       "      <td>Lopes</td>\n",
       "      <td>RR</td>\n",
       "      <td>Estrela</td>\n",
       "      <td>2021-01-07 11:23:50.660990</td>\n",
       "      <td>211.955597</td>\n",
       "      <td>13</td>\n",
       "      <td>2331.511572</td>\n",
       "      <td>11</td>\n",
       "      <td>42</td>\n",
       "      <td>organic_search</td>\n",
       "    </tr>\n",
       "    <tr>\n",
       "      <th>3</th>\n",
       "      <td>b5e4caeb-3a9b-49ed-aa33-5acd06b162c1</td>\n",
       "      <td>2018-07-21 10:17:57.000000</td>\n",
       "      <td>2021-01-10 11:23:50.661827</td>\n",
       "      <td>NaN</td>\n",
       "      <td>52593437a405b11b3557170680ef80c8</td>\n",
       "      <td>d3fb45188d95c8d7cc49da5b4f727c86</td>\n",
       "      <td>0a6f0c54db1e6f19347f96b50f8092a4</td>\n",
       "      <td>1980-11-21 00:00:00.000000</td>\n",
       "      <td>active</td>\n",
       "      <td>3.34.3</td>\n",
       "      <td>Campos do Campo</td>\n",
       "      <td>PE</td>\n",
       "      <td>Confisco</td>\n",
       "      <td>2021-01-10 11:23:50.661827</td>\n",
       "      <td>204.113227</td>\n",
       "      <td>8</td>\n",
       "      <td>1224.679359</td>\n",
       "      <td>6</td>\n",
       "      <td>39</td>\n",
       "      <td>organic_search</td>\n",
       "    </tr>\n",
       "    <tr>\n",
       "      <th>4</th>\n",
       "      <td>d4ff61fc-f008-4e19-b8ae-bd70cfa3ae27</td>\n",
       "      <td>2018-06-08 12:09:50.000000</td>\n",
       "      <td>2021-01-18 11:23:50.662621</td>\n",
       "      <td>NaN</td>\n",
       "      <td>dbda4b778a966c21904238ed2d2005db</td>\n",
       "      <td>a0f76bc49b4c43327b536da6e1a1465e</td>\n",
       "      <td>143b9f169b4fa1692f6d79b5682169b5</td>\n",
       "      <td>1959-07-07 00:00:00.000000</td>\n",
       "      <td>active</td>\n",
       "      <td>3.19.8</td>\n",
       "      <td>das Neves</td>\n",
       "      <td>RJ</td>\n",
       "      <td>Vila Suzana Segunda Seção</td>\n",
       "      <td>2021-01-18 11:23:50.662621</td>\n",
       "      <td>252.940997</td>\n",
       "      <td>9</td>\n",
       "      <td>2023.527980</td>\n",
       "      <td>8</td>\n",
       "      <td>31</td>\n",
       "      <td>crm</td>\n",
       "    </tr>\n",
       "  </tbody>\n",
       "</table>\n",
       "</div>"
      ],
      "text/plain": [
       "                                     id                  created_at  \\\n",
       "0  8bf7960e-3b93-468b-856e-6c6c5b56f52b  2017-08-15 07:05:04.000000   \n",
       "1  a39535b5-4647-4680-b4f6-3aed57c1f1ff  2019-12-31 21:53:34.000000   \n",
       "2  dc067cd2-c021-42bd-8c0e-beb267280e66  2019-03-07 23:46:51.000000   \n",
       "3  b5e4caeb-3a9b-49ed-aa33-5acd06b162c1  2018-07-21 10:17:57.000000   \n",
       "4  d4ff61fc-f008-4e19-b8ae-bd70cfa3ae27  2018-06-08 12:09:50.000000   \n",
       "\n",
       "                   updated_at deleted_at                         name_hash  \\\n",
       "0  2021-01-14 11:23:50.659119        NaN  312d206168a318614897e8ccac43bff9   \n",
       "1  2021-01-08 11:23:50.660183        NaN  de448fcb47d0d6a873b2eef52b5ee595   \n",
       "2  2021-01-07 11:23:50.660990        NaN  cb09e447ddc38283373d56bb46498e6a   \n",
       "3  2021-01-10 11:23:50.661827        NaN  52593437a405b11b3557170680ef80c8   \n",
       "4  2021-01-18 11:23:50.662621        NaN  dbda4b778a966c21904238ed2d2005db   \n",
       "\n",
       "                         email_hash                      address_hash  \\\n",
       "0  83eb3aed9a44377df80ce876dce92c9a  8b4bfaa0cbc41a16f46da15ddcd6a907   \n",
       "1  72678bb35e2ac84ed373e81dd9dca28c  22f1cfa1847f38da3f3cb114dd2b9247   \n",
       "2  668f4ee9add29c7bd02c485f1b7509e3  6cb47446a086ee6483b3eb954f11467a   \n",
       "3  d3fb45188d95c8d7cc49da5b4f727c86  0a6f0c54db1e6f19347f96b50f8092a4   \n",
       "4  a0f76bc49b4c43327b536da6e1a1465e  143b9f169b4fa1692f6d79b5682169b5   \n",
       "\n",
       "                   birth_date  status  version               city state  \\\n",
       "0  1974-07-10 00:00:00.000000  active   2.31.7   Peixoto da Praia    AM   \n",
       "1  1940-07-06 00:00:00.000000  paused  3.30.12          Fernandes    RR   \n",
       "2  1963-03-18 00:00:00.000000  active   3.28.9              Lopes    RR   \n",
       "3  1980-11-21 00:00:00.000000  active   3.34.3    Campos do Campo    PE   \n",
       "4  1959-07-07 00:00:00.000000  active   3.19.8          das Neves    RJ   \n",
       "\n",
       "                neighborhood          last_date_purchase  average_ticket  \\\n",
       "0         Aparecida 7ª Seção  2021-01-14 11:23:50.659119      151.142942   \n",
       "1               Santa Isabel  2021-01-08 11:23:50.660183      236.991790   \n",
       "2                    Estrela  2021-01-07 11:23:50.660990      211.955597   \n",
       "3                   Confisco  2021-01-10 11:23:50.661827      204.113227   \n",
       "4  Vila Suzana Segunda Seção  2021-01-18 11:23:50.662621      252.940997   \n",
       "\n",
       "   items_quantity  all_revenue  all_orders  recency marketing_source  \n",
       "0              10   906.857651           6       35              crm  \n",
       "1               4   236.991790           1       41   organic_search  \n",
       "2              13  2331.511572          11       42   organic_search  \n",
       "3               8  1224.679359           6       39   organic_search  \n",
       "4               9  2023.527980           8       31              crm  "
      ]
     },
     "execution_count": 3,
     "metadata": {},
     "output_type": "execute_result"
    }
   ],
   "source": [
    "data.head()"
   ]
  },
  {
   "cell_type": "markdown",
   "id": "4c2bf819",
   "metadata": {},
   "source": [
    "## Pré-processamento:"
   ]
  },
  {
   "cell_type": "markdown",
   "id": "50f3d2e7",
   "metadata": {},
   "source": [
    "### Dropando dados criptografados:"
   ]
  },
  {
   "cell_type": "code",
   "execution_count": 4,
   "id": "435bb4fa",
   "metadata": {},
   "outputs": [],
   "source": [
    "data=data.drop(columns=['id','name_hash','email_hash','address_hash'])"
   ]
  },
  {
   "cell_type": "markdown",
   "id": "32075463",
   "metadata": {},
   "source": [
    "### Convertendo data de nascimento para idade:"
   ]
  },
  {
   "cell_type": "code",
   "execution_count": 5,
   "id": "ff2a318a",
   "metadata": {},
   "outputs": [],
   "source": [
    "from datetime import datetime\n",
    "\n",
    "idade=data['birth_date']"
   ]
  },
  {
   "cell_type": "code",
   "execution_count": 6,
   "id": "50bed7bb",
   "metadata": {},
   "outputs": [],
   "source": [
    "def convert_idade(born):\n",
    "    \n",
    "    days_in_year = 365.2425    \n",
    "    age = int((datetime.today() - datetime.fromisoformat(born)).days / days_in_year)\n",
    "    \n",
    "    return age"
   ]
  },
  {
   "cell_type": "code",
   "execution_count": 7,
   "id": "0638226c",
   "metadata": {},
   "outputs": [],
   "source": [
    "data['birth_date']=list(map(convert_idade, data['birth_date']))\n"
   ]
  },
  {
   "cell_type": "code",
   "execution_count": 8,
   "id": "32844c5d",
   "metadata": {},
   "outputs": [
    {
     "data": {
      "text/plain": [
       "0       47\n",
       "1       81\n",
       "2       58\n",
       "3       41\n",
       "4       62\n",
       "        ..\n",
       "9995    60\n",
       "9996    52\n",
       "9997    62\n",
       "9998    64\n",
       "9999    78\n",
       "Name: age, Length: 10000, dtype: int64"
      ]
     },
     "execution_count": 8,
     "metadata": {},
     "output_type": "execute_result"
    }
   ],
   "source": [
    "data.rename(columns={'birth_date': 'age'}, inplace=True)\n",
    "data['age']"
   ]
  },
  {
   "cell_type": "code",
   "execution_count": 9,
   "id": "6a169d63",
   "metadata": {},
   "outputs": [
    {
     "data": {
      "text/html": [
       "<div>\n",
       "<style scoped>\n",
       "    .dataframe tbody tr th:only-of-type {\n",
       "        vertical-align: middle;\n",
       "    }\n",
       "\n",
       "    .dataframe tbody tr th {\n",
       "        vertical-align: top;\n",
       "    }\n",
       "\n",
       "    .dataframe thead th {\n",
       "        text-align: right;\n",
       "    }\n",
       "</style>\n",
       "<table border=\"1\" class=\"dataframe\">\n",
       "  <thead>\n",
       "    <tr style=\"text-align: right;\">\n",
       "      <th></th>\n",
       "      <th>created_at</th>\n",
       "      <th>updated_at</th>\n",
       "      <th>deleted_at</th>\n",
       "      <th>age</th>\n",
       "      <th>status</th>\n",
       "      <th>version</th>\n",
       "      <th>city</th>\n",
       "      <th>state</th>\n",
       "      <th>neighborhood</th>\n",
       "      <th>last_date_purchase</th>\n",
       "      <th>average_ticket</th>\n",
       "      <th>items_quantity</th>\n",
       "      <th>all_revenue</th>\n",
       "      <th>all_orders</th>\n",
       "      <th>recency</th>\n",
       "      <th>marketing_source</th>\n",
       "    </tr>\n",
       "  </thead>\n",
       "  <tbody>\n",
       "    <tr>\n",
       "      <th>0</th>\n",
       "      <td>2017-08-15 07:05:04.000000</td>\n",
       "      <td>2021-01-14 11:23:50.659119</td>\n",
       "      <td>NaN</td>\n",
       "      <td>47</td>\n",
       "      <td>active</td>\n",
       "      <td>2.31.7</td>\n",
       "      <td>Peixoto da Praia</td>\n",
       "      <td>AM</td>\n",
       "      <td>Aparecida 7ª Seção</td>\n",
       "      <td>2021-01-14 11:23:50.659119</td>\n",
       "      <td>151.142942</td>\n",
       "      <td>10</td>\n",
       "      <td>906.857651</td>\n",
       "      <td>6</td>\n",
       "      <td>35</td>\n",
       "      <td>crm</td>\n",
       "    </tr>\n",
       "    <tr>\n",
       "      <th>1</th>\n",
       "      <td>2019-12-31 21:53:34.000000</td>\n",
       "      <td>2021-01-08 11:23:50.660183</td>\n",
       "      <td>NaN</td>\n",
       "      <td>81</td>\n",
       "      <td>paused</td>\n",
       "      <td>3.30.12</td>\n",
       "      <td>Fernandes</td>\n",
       "      <td>RR</td>\n",
       "      <td>Santa Isabel</td>\n",
       "      <td>2021-01-08 11:23:50.660183</td>\n",
       "      <td>236.991790</td>\n",
       "      <td>4</td>\n",
       "      <td>236.991790</td>\n",
       "      <td>1</td>\n",
       "      <td>41</td>\n",
       "      <td>organic_search</td>\n",
       "    </tr>\n",
       "    <tr>\n",
       "      <th>2</th>\n",
       "      <td>2019-03-07 23:46:51.000000</td>\n",
       "      <td>2021-01-07 11:23:50.660990</td>\n",
       "      <td>NaN</td>\n",
       "      <td>58</td>\n",
       "      <td>active</td>\n",
       "      <td>3.28.9</td>\n",
       "      <td>Lopes</td>\n",
       "      <td>RR</td>\n",
       "      <td>Estrela</td>\n",
       "      <td>2021-01-07 11:23:50.660990</td>\n",
       "      <td>211.955597</td>\n",
       "      <td>13</td>\n",
       "      <td>2331.511572</td>\n",
       "      <td>11</td>\n",
       "      <td>42</td>\n",
       "      <td>organic_search</td>\n",
       "    </tr>\n",
       "    <tr>\n",
       "      <th>3</th>\n",
       "      <td>2018-07-21 10:17:57.000000</td>\n",
       "      <td>2021-01-10 11:23:50.661827</td>\n",
       "      <td>NaN</td>\n",
       "      <td>41</td>\n",
       "      <td>active</td>\n",
       "      <td>3.34.3</td>\n",
       "      <td>Campos do Campo</td>\n",
       "      <td>PE</td>\n",
       "      <td>Confisco</td>\n",
       "      <td>2021-01-10 11:23:50.661827</td>\n",
       "      <td>204.113227</td>\n",
       "      <td>8</td>\n",
       "      <td>1224.679359</td>\n",
       "      <td>6</td>\n",
       "      <td>39</td>\n",
       "      <td>organic_search</td>\n",
       "    </tr>\n",
       "    <tr>\n",
       "      <th>4</th>\n",
       "      <td>2018-06-08 12:09:50.000000</td>\n",
       "      <td>2021-01-18 11:23:50.662621</td>\n",
       "      <td>NaN</td>\n",
       "      <td>62</td>\n",
       "      <td>active</td>\n",
       "      <td>3.19.8</td>\n",
       "      <td>das Neves</td>\n",
       "      <td>RJ</td>\n",
       "      <td>Vila Suzana Segunda Seção</td>\n",
       "      <td>2021-01-18 11:23:50.662621</td>\n",
       "      <td>252.940997</td>\n",
       "      <td>9</td>\n",
       "      <td>2023.527980</td>\n",
       "      <td>8</td>\n",
       "      <td>31</td>\n",
       "      <td>crm</td>\n",
       "    </tr>\n",
       "  </tbody>\n",
       "</table>\n",
       "</div>"
      ],
      "text/plain": [
       "                   created_at                  updated_at deleted_at  age  \\\n",
       "0  2017-08-15 07:05:04.000000  2021-01-14 11:23:50.659119        NaN   47   \n",
       "1  2019-12-31 21:53:34.000000  2021-01-08 11:23:50.660183        NaN   81   \n",
       "2  2019-03-07 23:46:51.000000  2021-01-07 11:23:50.660990        NaN   58   \n",
       "3  2018-07-21 10:17:57.000000  2021-01-10 11:23:50.661827        NaN   41   \n",
       "4  2018-06-08 12:09:50.000000  2021-01-18 11:23:50.662621        NaN   62   \n",
       "\n",
       "   status  version               city state               neighborhood  \\\n",
       "0  active   2.31.7   Peixoto da Praia    AM         Aparecida 7ª Seção   \n",
       "1  paused  3.30.12          Fernandes    RR               Santa Isabel   \n",
       "2  active   3.28.9              Lopes    RR                    Estrela   \n",
       "3  active   3.34.3    Campos do Campo    PE                   Confisco   \n",
       "4  active   3.19.8          das Neves    RJ  Vila Suzana Segunda Seção   \n",
       "\n",
       "           last_date_purchase  average_ticket  items_quantity  all_revenue  \\\n",
       "0  2021-01-14 11:23:50.659119      151.142942              10   906.857651   \n",
       "1  2021-01-08 11:23:50.660183      236.991790               4   236.991790   \n",
       "2  2021-01-07 11:23:50.660990      211.955597              13  2331.511572   \n",
       "3  2021-01-10 11:23:50.661827      204.113227               8  1224.679359   \n",
       "4  2021-01-18 11:23:50.662621      252.940997               9  2023.527980   \n",
       "\n",
       "   all_orders  recency marketing_source  \n",
       "0           6       35              crm  \n",
       "1           1       41   organic_search  \n",
       "2          11       42   organic_search  \n",
       "3           6       39   organic_search  \n",
       "4           8       31              crm  "
      ]
     },
     "execution_count": 9,
     "metadata": {},
     "output_type": "execute_result"
    }
   ],
   "source": [
    "data.head()"
   ]
  },
  {
   "cell_type": "markdown",
   "id": "c6692ac8",
   "metadata": {},
   "source": [
    "### Podemos transformar algumas entradas de data em dias contados até hoje:"
   ]
  },
  {
   "cell_type": "markdown",
   "id": "032c836e",
   "metadata": {},
   "source": [
    "Esse trabalho nos garante trabalhar com valores inteiros e 'fugir' do formato de datas."
   ]
  },
  {
   "cell_type": "code",
   "execution_count": 10,
   "id": "6d18a553",
   "metadata": {},
   "outputs": [],
   "source": [
    "def convert_data_dias(date):\n",
    "    date=str(date)\n",
    "    \n",
    "    if date=='nan':\n",
    "        date=str(datetime.today())\n",
    "        \n",
    "    days = int((datetime.today() - datetime.fromisoformat(date)).days)\n",
    "    \n",
    "    return days"
   ]
  },
  {
   "cell_type": "code",
   "execution_count": 11,
   "id": "855941d2",
   "metadata": {},
   "outputs": [],
   "source": [
    "data['days_of_creaton']=list(map(convert_data_dias, data['created_at']))"
   ]
  },
  {
   "cell_type": "code",
   "execution_count": 12,
   "id": "e1e3f680",
   "metadata": {},
   "outputs": [
    {
     "data": {
      "text/html": [
       "<div>\n",
       "<style scoped>\n",
       "    .dataframe tbody tr th:only-of-type {\n",
       "        vertical-align: middle;\n",
       "    }\n",
       "\n",
       "    .dataframe tbody tr th {\n",
       "        vertical-align: top;\n",
       "    }\n",
       "\n",
       "    .dataframe thead th {\n",
       "        text-align: right;\n",
       "    }\n",
       "</style>\n",
       "<table border=\"1\" class=\"dataframe\">\n",
       "  <thead>\n",
       "    <tr style=\"text-align: right;\">\n",
       "      <th></th>\n",
       "      <th>created_at</th>\n",
       "      <th>updated_at</th>\n",
       "      <th>deleted_at</th>\n",
       "      <th>age</th>\n",
       "      <th>status</th>\n",
       "      <th>version</th>\n",
       "      <th>city</th>\n",
       "      <th>state</th>\n",
       "      <th>neighborhood</th>\n",
       "      <th>last_date_purchase</th>\n",
       "      <th>average_ticket</th>\n",
       "      <th>items_quantity</th>\n",
       "      <th>all_revenue</th>\n",
       "      <th>all_orders</th>\n",
       "      <th>recency</th>\n",
       "      <th>marketing_source</th>\n",
       "      <th>days_of_creaton</th>\n",
       "    </tr>\n",
       "  </thead>\n",
       "  <tbody>\n",
       "    <tr>\n",
       "      <th>0</th>\n",
       "      <td>2017-08-15 07:05:04.000000</td>\n",
       "      <td>2021-01-14 11:23:50.659119</td>\n",
       "      <td>NaN</td>\n",
       "      <td>47</td>\n",
       "      <td>active</td>\n",
       "      <td>2.31.7</td>\n",
       "      <td>Peixoto da Praia</td>\n",
       "      <td>AM</td>\n",
       "      <td>Aparecida 7ª Seção</td>\n",
       "      <td>2021-01-14 11:23:50.659119</td>\n",
       "      <td>151.142942</td>\n",
       "      <td>10</td>\n",
       "      <td>906.857651</td>\n",
       "      <td>6</td>\n",
       "      <td>35</td>\n",
       "      <td>crm</td>\n",
       "      <td>1648</td>\n",
       "    </tr>\n",
       "    <tr>\n",
       "      <th>1</th>\n",
       "      <td>2019-12-31 21:53:34.000000</td>\n",
       "      <td>2021-01-08 11:23:50.660183</td>\n",
       "      <td>NaN</td>\n",
       "      <td>81</td>\n",
       "      <td>paused</td>\n",
       "      <td>3.30.12</td>\n",
       "      <td>Fernandes</td>\n",
       "      <td>RR</td>\n",
       "      <td>Santa Isabel</td>\n",
       "      <td>2021-01-08 11:23:50.660183</td>\n",
       "      <td>236.991790</td>\n",
       "      <td>4</td>\n",
       "      <td>236.991790</td>\n",
       "      <td>1</td>\n",
       "      <td>41</td>\n",
       "      <td>organic_search</td>\n",
       "      <td>780</td>\n",
       "    </tr>\n",
       "    <tr>\n",
       "      <th>2</th>\n",
       "      <td>2019-03-07 23:46:51.000000</td>\n",
       "      <td>2021-01-07 11:23:50.660990</td>\n",
       "      <td>NaN</td>\n",
       "      <td>58</td>\n",
       "      <td>active</td>\n",
       "      <td>3.28.9</td>\n",
       "      <td>Lopes</td>\n",
       "      <td>RR</td>\n",
       "      <td>Estrela</td>\n",
       "      <td>2021-01-07 11:23:50.660990</td>\n",
       "      <td>211.955597</td>\n",
       "      <td>13</td>\n",
       "      <td>2331.511572</td>\n",
       "      <td>11</td>\n",
       "      <td>42</td>\n",
       "      <td>organic_search</td>\n",
       "      <td>1078</td>\n",
       "    </tr>\n",
       "    <tr>\n",
       "      <th>3</th>\n",
       "      <td>2018-07-21 10:17:57.000000</td>\n",
       "      <td>2021-01-10 11:23:50.661827</td>\n",
       "      <td>NaN</td>\n",
       "      <td>41</td>\n",
       "      <td>active</td>\n",
       "      <td>3.34.3</td>\n",
       "      <td>Campos do Campo</td>\n",
       "      <td>PE</td>\n",
       "      <td>Confisco</td>\n",
       "      <td>2021-01-10 11:23:50.661827</td>\n",
       "      <td>204.113227</td>\n",
       "      <td>8</td>\n",
       "      <td>1224.679359</td>\n",
       "      <td>6</td>\n",
       "      <td>39</td>\n",
       "      <td>organic_search</td>\n",
       "      <td>1308</td>\n",
       "    </tr>\n",
       "    <tr>\n",
       "      <th>4</th>\n",
       "      <td>2018-06-08 12:09:50.000000</td>\n",
       "      <td>2021-01-18 11:23:50.662621</td>\n",
       "      <td>NaN</td>\n",
       "      <td>62</td>\n",
       "      <td>active</td>\n",
       "      <td>3.19.8</td>\n",
       "      <td>das Neves</td>\n",
       "      <td>RJ</td>\n",
       "      <td>Vila Suzana Segunda Seção</td>\n",
       "      <td>2021-01-18 11:23:50.662621</td>\n",
       "      <td>252.940997</td>\n",
       "      <td>9</td>\n",
       "      <td>2023.527980</td>\n",
       "      <td>8</td>\n",
       "      <td>31</td>\n",
       "      <td>crm</td>\n",
       "      <td>1351</td>\n",
       "    </tr>\n",
       "  </tbody>\n",
       "</table>\n",
       "</div>"
      ],
      "text/plain": [
       "                   created_at                  updated_at deleted_at  age  \\\n",
       "0  2017-08-15 07:05:04.000000  2021-01-14 11:23:50.659119        NaN   47   \n",
       "1  2019-12-31 21:53:34.000000  2021-01-08 11:23:50.660183        NaN   81   \n",
       "2  2019-03-07 23:46:51.000000  2021-01-07 11:23:50.660990        NaN   58   \n",
       "3  2018-07-21 10:17:57.000000  2021-01-10 11:23:50.661827        NaN   41   \n",
       "4  2018-06-08 12:09:50.000000  2021-01-18 11:23:50.662621        NaN   62   \n",
       "\n",
       "   status  version               city state               neighborhood  \\\n",
       "0  active   2.31.7   Peixoto da Praia    AM         Aparecida 7ª Seção   \n",
       "1  paused  3.30.12          Fernandes    RR               Santa Isabel   \n",
       "2  active   3.28.9              Lopes    RR                    Estrela   \n",
       "3  active   3.34.3    Campos do Campo    PE                   Confisco   \n",
       "4  active   3.19.8          das Neves    RJ  Vila Suzana Segunda Seção   \n",
       "\n",
       "           last_date_purchase  average_ticket  items_quantity  all_revenue  \\\n",
       "0  2021-01-14 11:23:50.659119      151.142942              10   906.857651   \n",
       "1  2021-01-08 11:23:50.660183      236.991790               4   236.991790   \n",
       "2  2021-01-07 11:23:50.660990      211.955597              13  2331.511572   \n",
       "3  2021-01-10 11:23:50.661827      204.113227               8  1224.679359   \n",
       "4  2021-01-18 11:23:50.662621      252.940997               9  2023.527980   \n",
       "\n",
       "   all_orders  recency marketing_source  days_of_creaton  \n",
       "0           6       35              crm             1648  \n",
       "1           1       41   organic_search              780  \n",
       "2          11       42   organic_search             1078  \n",
       "3           6       39   organic_search             1308  \n",
       "4           8       31              crm             1351  "
      ]
     },
     "execution_count": 12,
     "metadata": {},
     "output_type": "execute_result"
    }
   ],
   "source": [
    "data.head()"
   ]
  },
  {
   "cell_type": "markdown",
   "id": "76285139",
   "metadata": {},
   "source": [
    "### Podemos dividir a coluna 'status' para facilitar nas análises futuras e nos plots:"
   ]
  },
  {
   "cell_type": "code",
   "execution_count": 13,
   "id": "17981e99",
   "metadata": {},
   "outputs": [],
   "source": [
    "data=pd.get_dummies(data, columns=['status'])"
   ]
  },
  {
   "cell_type": "code",
   "execution_count": 14,
   "id": "7340e4e2",
   "metadata": {
    "scrolled": true
   },
   "outputs": [
    {
     "data": {
      "text/html": [
       "<div>\n",
       "<style scoped>\n",
       "    .dataframe tbody tr th:only-of-type {\n",
       "        vertical-align: middle;\n",
       "    }\n",
       "\n",
       "    .dataframe tbody tr th {\n",
       "        vertical-align: top;\n",
       "    }\n",
       "\n",
       "    .dataframe thead th {\n",
       "        text-align: right;\n",
       "    }\n",
       "</style>\n",
       "<table border=\"1\" class=\"dataframe\">\n",
       "  <thead>\n",
       "    <tr style=\"text-align: right;\">\n",
       "      <th></th>\n",
       "      <th>created_at</th>\n",
       "      <th>updated_at</th>\n",
       "      <th>deleted_at</th>\n",
       "      <th>age</th>\n",
       "      <th>version</th>\n",
       "      <th>city</th>\n",
       "      <th>state</th>\n",
       "      <th>neighborhood</th>\n",
       "      <th>last_date_purchase</th>\n",
       "      <th>average_ticket</th>\n",
       "      <th>items_quantity</th>\n",
       "      <th>all_revenue</th>\n",
       "      <th>all_orders</th>\n",
       "      <th>recency</th>\n",
       "      <th>marketing_source</th>\n",
       "      <th>days_of_creaton</th>\n",
       "      <th>status_active</th>\n",
       "      <th>status_canceled</th>\n",
       "      <th>status_paused</th>\n",
       "    </tr>\n",
       "  </thead>\n",
       "  <tbody>\n",
       "    <tr>\n",
       "      <th>0</th>\n",
       "      <td>2017-08-15 07:05:04.000000</td>\n",
       "      <td>2021-01-14 11:23:50.659119</td>\n",
       "      <td>NaN</td>\n",
       "      <td>47</td>\n",
       "      <td>2.31.7</td>\n",
       "      <td>Peixoto da Praia</td>\n",
       "      <td>AM</td>\n",
       "      <td>Aparecida 7ª Seção</td>\n",
       "      <td>2021-01-14 11:23:50.659119</td>\n",
       "      <td>151.142942</td>\n",
       "      <td>10</td>\n",
       "      <td>906.857651</td>\n",
       "      <td>6</td>\n",
       "      <td>35</td>\n",
       "      <td>crm</td>\n",
       "      <td>1648</td>\n",
       "      <td>1</td>\n",
       "      <td>0</td>\n",
       "      <td>0</td>\n",
       "    </tr>\n",
       "    <tr>\n",
       "      <th>1</th>\n",
       "      <td>2019-12-31 21:53:34.000000</td>\n",
       "      <td>2021-01-08 11:23:50.660183</td>\n",
       "      <td>NaN</td>\n",
       "      <td>81</td>\n",
       "      <td>3.30.12</td>\n",
       "      <td>Fernandes</td>\n",
       "      <td>RR</td>\n",
       "      <td>Santa Isabel</td>\n",
       "      <td>2021-01-08 11:23:50.660183</td>\n",
       "      <td>236.991790</td>\n",
       "      <td>4</td>\n",
       "      <td>236.991790</td>\n",
       "      <td>1</td>\n",
       "      <td>41</td>\n",
       "      <td>organic_search</td>\n",
       "      <td>780</td>\n",
       "      <td>0</td>\n",
       "      <td>0</td>\n",
       "      <td>1</td>\n",
       "    </tr>\n",
       "    <tr>\n",
       "      <th>2</th>\n",
       "      <td>2019-03-07 23:46:51.000000</td>\n",
       "      <td>2021-01-07 11:23:50.660990</td>\n",
       "      <td>NaN</td>\n",
       "      <td>58</td>\n",
       "      <td>3.28.9</td>\n",
       "      <td>Lopes</td>\n",
       "      <td>RR</td>\n",
       "      <td>Estrela</td>\n",
       "      <td>2021-01-07 11:23:50.660990</td>\n",
       "      <td>211.955597</td>\n",
       "      <td>13</td>\n",
       "      <td>2331.511572</td>\n",
       "      <td>11</td>\n",
       "      <td>42</td>\n",
       "      <td>organic_search</td>\n",
       "      <td>1078</td>\n",
       "      <td>1</td>\n",
       "      <td>0</td>\n",
       "      <td>0</td>\n",
       "    </tr>\n",
       "    <tr>\n",
       "      <th>3</th>\n",
       "      <td>2018-07-21 10:17:57.000000</td>\n",
       "      <td>2021-01-10 11:23:50.661827</td>\n",
       "      <td>NaN</td>\n",
       "      <td>41</td>\n",
       "      <td>3.34.3</td>\n",
       "      <td>Campos do Campo</td>\n",
       "      <td>PE</td>\n",
       "      <td>Confisco</td>\n",
       "      <td>2021-01-10 11:23:50.661827</td>\n",
       "      <td>204.113227</td>\n",
       "      <td>8</td>\n",
       "      <td>1224.679359</td>\n",
       "      <td>6</td>\n",
       "      <td>39</td>\n",
       "      <td>organic_search</td>\n",
       "      <td>1308</td>\n",
       "      <td>1</td>\n",
       "      <td>0</td>\n",
       "      <td>0</td>\n",
       "    </tr>\n",
       "    <tr>\n",
       "      <th>4</th>\n",
       "      <td>2018-06-08 12:09:50.000000</td>\n",
       "      <td>2021-01-18 11:23:50.662621</td>\n",
       "      <td>NaN</td>\n",
       "      <td>62</td>\n",
       "      <td>3.19.8</td>\n",
       "      <td>das Neves</td>\n",
       "      <td>RJ</td>\n",
       "      <td>Vila Suzana Segunda Seção</td>\n",
       "      <td>2021-01-18 11:23:50.662621</td>\n",
       "      <td>252.940997</td>\n",
       "      <td>9</td>\n",
       "      <td>2023.527980</td>\n",
       "      <td>8</td>\n",
       "      <td>31</td>\n",
       "      <td>crm</td>\n",
       "      <td>1351</td>\n",
       "      <td>1</td>\n",
       "      <td>0</td>\n",
       "      <td>0</td>\n",
       "    </tr>\n",
       "  </tbody>\n",
       "</table>\n",
       "</div>"
      ],
      "text/plain": [
       "                   created_at                  updated_at deleted_at  age  \\\n",
       "0  2017-08-15 07:05:04.000000  2021-01-14 11:23:50.659119        NaN   47   \n",
       "1  2019-12-31 21:53:34.000000  2021-01-08 11:23:50.660183        NaN   81   \n",
       "2  2019-03-07 23:46:51.000000  2021-01-07 11:23:50.660990        NaN   58   \n",
       "3  2018-07-21 10:17:57.000000  2021-01-10 11:23:50.661827        NaN   41   \n",
       "4  2018-06-08 12:09:50.000000  2021-01-18 11:23:50.662621        NaN   62   \n",
       "\n",
       "   version               city state               neighborhood  \\\n",
       "0   2.31.7   Peixoto da Praia    AM         Aparecida 7ª Seção   \n",
       "1  3.30.12          Fernandes    RR               Santa Isabel   \n",
       "2   3.28.9              Lopes    RR                    Estrela   \n",
       "3   3.34.3    Campos do Campo    PE                   Confisco   \n",
       "4   3.19.8          das Neves    RJ  Vila Suzana Segunda Seção   \n",
       "\n",
       "           last_date_purchase  average_ticket  items_quantity  all_revenue  \\\n",
       "0  2021-01-14 11:23:50.659119      151.142942              10   906.857651   \n",
       "1  2021-01-08 11:23:50.660183      236.991790               4   236.991790   \n",
       "2  2021-01-07 11:23:50.660990      211.955597              13  2331.511572   \n",
       "3  2021-01-10 11:23:50.661827      204.113227               8  1224.679359   \n",
       "4  2021-01-18 11:23:50.662621      252.940997               9  2023.527980   \n",
       "\n",
       "   all_orders  recency marketing_source  days_of_creaton  status_active  \\\n",
       "0           6       35              crm             1648              1   \n",
       "1           1       41   organic_search              780              0   \n",
       "2          11       42   organic_search             1078              1   \n",
       "3           6       39   organic_search             1308              1   \n",
       "4           8       31              crm             1351              1   \n",
       "\n",
       "   status_canceled  status_paused  \n",
       "0                0              0  \n",
       "1                0              1  \n",
       "2                0              0  \n",
       "3                0              0  \n",
       "4                0              0  "
      ]
     },
     "execution_count": 14,
     "metadata": {},
     "output_type": "execute_result"
    }
   ],
   "source": [
    "data.head()"
   ]
  },
  {
   "cell_type": "markdown",
   "id": "211d5f91",
   "metadata": {},
   "source": [
    "### Trabalhando na feature 'deleted_at':\n",
    "\n",
    "#### A feature 'deleted_at' contém muitos NaNs pelo fato de só haver dados para os clientes que cancelaram a assinatura.\n",
    "\n",
    "#### Podemos transformar os dados de data 'deleted_at' no valor do mês daquele ano, 0- Nan, 1- janeiro, 2- fevereiro ..."
   ]
  },
  {
   "cell_type": "code",
   "execution_count": 15,
   "id": "1ae6820b",
   "metadata": {},
   "outputs": [],
   "source": [
    "def convert_data_month(date):\n",
    "    date=str(date)\n",
    "    \n",
    "    if date=='nan':\n",
    "        return 0\n",
    "    \n",
    "    month = datetime.fromisoformat(date).month\n",
    "    return month"
   ]
  },
  {
   "cell_type": "code",
   "execution_count": 16,
   "id": "7fc14992",
   "metadata": {},
   "outputs": [],
   "source": [
    "data['deleted_at']=list(map(convert_data_month, data['deleted_at']))"
   ]
  },
  {
   "cell_type": "markdown",
   "id": "97b6a623",
   "metadata": {},
   "source": [
    "### Trabalhando na feature 'created_at':\n",
    "\n",
    "#### Podemos classificar por mês e descobrir os meses que mais temos cadastros."
   ]
  },
  {
   "cell_type": "code",
   "execution_count": 17,
   "id": "9dd95ab6",
   "metadata": {},
   "outputs": [],
   "source": [
    "data['created_at']=list(map(convert_data_month, data['created_at']))"
   ]
  },
  {
   "cell_type": "markdown",
   "id": "e92ffd59",
   "metadata": {},
   "source": [
    "### Trabalhando na feature de 'updated_at' e 'last_date_purchase':\n",
    "\n",
    "#### \"updated_at - Data da última modificação da assinatura.\" - Documentação\n",
    "\n",
    "#### A features 'update_at' pode nos informar o mês que o cliente pausou a assinatura e este dado parece importante.\n",
    "\n",
    "#### Podemos utilizar a função implementada anteriormente."
   ]
  },
  {
   "cell_type": "code",
   "execution_count": 18,
   "id": "d7fd4524",
   "metadata": {},
   "outputs": [],
   "source": [
    "data['updated_at']=list(map(convert_data_month, data['updated_at']))"
   ]
  },
  {
   "cell_type": "code",
   "execution_count": 19,
   "id": "76ce5779",
   "metadata": {
    "scrolled": true
   },
   "outputs": [
    {
     "data": {
      "text/plain": [
       "updated_at\n",
       "1     961\n",
       "12     10\n",
       "dtype: int64"
      ]
     },
     "execution_count": 19,
     "metadata": {},
     "output_type": "execute_result"
    }
   ],
   "source": [
    "paused_por_mes=data[data['status_paused']==1].groupby(by='updated_at').size()\n",
    "paused_por_mes"
   ]
  },
  {
   "cell_type": "markdown",
   "id": "b1b3236b",
   "metadata": {},
   "source": [
    "##### Este dado parece inconscistente, talvez a 'modificação de assinatura' ocorra todo mês de forma automatica para todos os cadastros ativos e pausados.\n",
    "##### Mas podemos considerar que ao pausar a assinatura o cliente não fez nenhuma compra posterior e utilizar a data da ultima compra como data do \"pause\"."
   ]
  },
  {
   "cell_type": "code",
   "execution_count": 20,
   "id": "0d976e80",
   "metadata": {},
   "outputs": [],
   "source": [
    "data['last_date_purchase']=list(map(convert_data_month, data['last_date_purchase']))"
   ]
  },
  {
   "cell_type": "code",
   "execution_count": 21,
   "id": "02fec7f9",
   "metadata": {},
   "outputs": [
    {
     "data": {
      "text/plain": [
       "last_date_purchase\n",
       "1     961\n",
       "12     10\n",
       "dtype: int64"
      ]
     },
     "execution_count": 21,
     "metadata": {},
     "output_type": "execute_result"
    }
   ],
   "source": [
    "paused_por_mes=data[data['status_paused']==1].groupby(by='last_date_purchase').size()\n",
    "paused_por_mes"
   ]
  },
  {
   "cell_type": "code",
   "execution_count": 22,
   "id": "9ae1e72f",
   "metadata": {},
   "outputs": [
    {
     "data": {
      "text/plain": [
       "<AxesSubplot:xlabel='last_date_purchase'>"
      ]
     },
     "execution_count": 22,
     "metadata": {},
     "output_type": "execute_result"
    },
    {
     "data": {
      "image/png": "[encoded data removed]",
      "text/plain": [
       "<Figure size 432x288 with 1 Axes>"
      ]
     },
     "metadata": {
      "needs_background": "light"
     },
     "output_type": "display_data"
    }
   ],
   "source": [
    "paused_por_mes.plot.bar()"
   ]
  },
  {
   "cell_type": "markdown",
   "id": "a9a2ec16",
   "metadata": {},
   "source": [
    "#### Os dados anteriores foram confirmados com estes novos, podemos inferir que a maioria das modificações de status de ativo para pausado ocorrem no inicio do ano."
   ]
  },
  {
   "cell_type": "markdown",
   "id": "f76bd3e7",
   "metadata": {},
   "source": [
    "## Como os dados estão correlacionados:"
   ]
  },
  {
   "cell_type": "code",
   "execution_count": 23,
   "id": "4da40175",
   "metadata": {
    "scrolled": false
   },
   "outputs": [
    {
     "data": {
      "text/plain": [
       "<AxesSubplot:>"
      ]
     },
     "execution_count": 23,
     "metadata": {},
     "output_type": "execute_result"
    },
    {
     "data": {
      "image/png": "[encoded data removed]",
      "text/plain": [
       "<Figure size 1080x576 with 2 Axes>"
      ]
     },
     "metadata": {
      "needs_background": "light"
     },
     "output_type": "display_data"
    }
   ],
   "source": [
    "corr_df = data.corr(method='pearson')\n",
    "\n",
    "plt.pyplot.figure(figsize=(15, 8))\n",
    "sns.heatmap(corr_df, annot=True)"
   ]
  },
  {
   "cell_type": "markdown",
   "id": "8f004059",
   "metadata": {},
   "source": [
    "## Análise por mês:\n",
    "\n",
    "#### * Dividiremos a análise em duas vertentes: análise em relação aos meses e análise em relação aos estados.\n",
    "#### Levaremos em consideração idade, canal de marketing e algumas outras features importantes."
   ]
  },
  {
   "cell_type": "markdown",
   "id": "1315b670",
   "metadata": {},
   "source": [
    "### Olhando para os status por mês:"
   ]
  },
  {
   "cell_type": "code",
   "execution_count": 24,
   "id": "46dbe6b0",
   "metadata": {},
   "outputs": [
    {
     "data": {
      "text/plain": [
       "deleted_at\n",
       "0     9495\n",
       "1       59\n",
       "2       57\n",
       "3       19\n",
       "4       35\n",
       "5       31\n",
       "6       30\n",
       "7       39\n",
       "8       38\n",
       "9       51\n",
       "10      42\n",
       "11      45\n",
       "12      59\n",
       "dtype: int64"
      ]
     },
     "execution_count": 24,
     "metadata": {},
     "output_type": "execute_result"
    }
   ],
   "source": [
    "cancelamento_por_mes=data.groupby(by='deleted_at').size()\n",
    "cancelamento_por_mes"
   ]
  },
  {
   "cell_type": "markdown",
   "id": "04fb77f4",
   "metadata": {},
   "source": [
    "#### Quais meses estão tendo mais pauses na assinatura?"
   ]
  },
  {
   "cell_type": "markdown",
   "id": "270579f3",
   "metadata": {},
   "source": [
    "O numero de clientes relacionados ao valor 0 são os não cancelados. (então ignoramos)"
   ]
  },
  {
   "cell_type": "code",
   "execution_count": 25,
   "id": "55542822",
   "metadata": {
    "scrolled": false
   },
   "outputs": [
    {
     "data": {
      "text/plain": [
       "<AxesSubplot:xlabel='deleted_at'>"
      ]
     },
     "execution_count": 25,
     "metadata": {},
     "output_type": "execute_result"
    },
    {
     "data": {
      "image/png": "[encoded data removed]",
      "text/plain": [
       "<Figure size 1080x576 with 1 Axes>"
      ]
     },
     "metadata": {
      "needs_background": "light"
     },
     "output_type": "display_data"
    }
   ],
   "source": [
    "cancelamento_por_mes[1:].plot.bar(figsize=(15, 8))"
   ]
  },
  {
   "cell_type": "markdown",
   "id": "28b9dadc",
   "metadata": {},
   "source": [
    "##### Os meses de dezembro, janeiro e fevereiro estão liderando o rank de maior numero de cancelamento, estes dados também estão relacionados com o numero alto de modificações no status ativo->pausado no mês de janeiro, visto anteriormente."
   ]
  },
  {
   "cell_type": "markdown",
   "id": "bbcfbc20",
   "metadata": {},
   "source": [
    "#### Quais meses estão tendo mais adesão à assinatura?"
   ]
  },
  {
   "cell_type": "code",
   "execution_count": 26,
   "id": "1654a1a2",
   "metadata": {},
   "outputs": [
    {
     "data": {
      "text/plain": [
       "<AxesSubplot:xlabel='created_at'>"
      ]
     },
     "execution_count": 26,
     "metadata": {},
     "output_type": "execute_result"
    },
    {
     "data": {
      "image/png": "[encoded data removed]",
      "text/plain": [
       "<Figure size 1080x576 with 1 Axes>"
      ]
     },
     "metadata": {
      "needs_background": "light"
     },
     "output_type": "display_data"
    }
   ],
   "source": [
    "created_por_mes=data.groupby(by='created_at').size()\n",
    "created_por_mes.plot.bar(figsize=(15, 8))"
   ]
  },
  {
   "cell_type": "markdown",
   "id": "723c58dd",
   "metadata": {},
   "source": [
    "##### Nossos clientes fazem suas assinaturas o ano todo, apesar de ter um leve aumento no meio do ano, talvez relacionado a um possivel retorno dos clientes que fizeram o cancelamento no fim/inicio do ano."
   ]
  },
  {
   "cell_type": "markdown",
   "id": "19553520",
   "metadata": {},
   "source": [
    "## Análise por estado:\n",
    "\n",
    "#### Começaremos analisando a distribuição de clientes totais por estado:"
   ]
  },
  {
   "cell_type": "code",
   "execution_count": 27,
   "id": "82d14299",
   "metadata": {
    "scrolled": false
   },
   "outputs": [
    {
     "data": {
      "text/plain": [
       "<AxesSubplot:xlabel='state'>"
      ]
     },
     "execution_count": 27,
     "metadata": {},
     "output_type": "execute_result"
    },
    {
     "data": {
      "image/png": "[encoded data removed]",
      "text/plain": [
       "<Figure size 1080x576 with 1 Axes>"
      ]
     },
     "metadata": {
      "needs_background": "light"
     },
     "output_type": "display_data"
    }
   ],
   "source": [
    "plot1=data.groupby(by='state').size()\n",
    "\n",
    "plot1.plot.bar(figsize=(15, 8))\n",
    "\n",
    "#data.groupby(by='state').agg('mean').plot(color='red', linestyle='dashed')"
   ]
  },
  {
   "cell_type": "code",
   "execution_count": 28,
   "id": "622a4abd",
   "metadata": {
    "scrolled": true
   },
   "outputs": [
    {
     "data": {
      "image/png": "[encoded data removed]",
      "text/plain": [
       "<Figure size 432x288 with 1 Axes>"
      ]
     },
     "metadata": {},
     "output_type": "display_data"
    }
   ],
   "source": [
    "\n",
    "sns.set_theme(style=\"whitegrid\")\n",
    "\n",
    "ax = sns.boxplot(x=plot1)"
   ]
  },
  {
   "cell_type": "markdown",
   "id": "65f7f275",
   "metadata": {},
   "source": [
    "##### Podemos observar uma distribuição conforme entre todos os estados, sem nenhum destaque positivo ou negativo."
   ]
  },
  {
   "cell_type": "markdown",
   "id": "806cf074",
   "metadata": {},
   "source": [
    "### Podemos olhar para o status por estado e calcular o churn:"
   ]
  },
  {
   "cell_type": "code",
   "execution_count": 29,
   "id": "36279123",
   "metadata": {},
   "outputs": [
    {
     "name": "stderr",
     "output_type": "stream",
     "text": [
      "<ipython-input-29-f3c7a9394247>:1: FutureWarning: Indexing with multiple keys (implicitly converted to a tuple of keys) will be deprecated, use a list instead.\n",
      "  status_por_uf=data.groupby(by='state')['status_active','status_canceled','status_paused'].agg('sum')\n"
     ]
    }
   ],
   "source": [
    "status_por_uf=data.groupby(by='state')['status_active','status_canceled','status_paused'].agg('sum')"
   ]
  },
  {
   "cell_type": "code",
   "execution_count": 30,
   "id": "f2ad0f42",
   "metadata": {},
   "outputs": [
    {
     "data": {
      "text/plain": [
       "<AxesSubplot:xlabel='state'>"
      ]
     },
     "execution_count": 30,
     "metadata": {},
     "output_type": "execute_result"
    },
    {
     "data": {
      "image/png": "[encoded data removed]",
      "text/plain": [
       "<Figure size 1080x576 with 1 Axes>"
      ]
     },
     "metadata": {},
     "output_type": "display_data"
    }
   ],
   "source": [
    "status_por_uf.plot.bar(figsize=(15, 8))"
   ]
  },
  {
   "cell_type": "markdown",
   "id": "115bac62",
   "metadata": {},
   "source": [
    "### Churn por estado:"
   ]
  },
  {
   "cell_type": "code",
   "execution_count": 31,
   "id": "45ff6bbc",
   "metadata": {},
   "outputs": [],
   "source": [
    "status_por_uf=status_por_uf.assign(churn = np.zeros(len(status_por_uf['status_active'])))\n",
    "\n",
    "status_por_uf=status_por_uf.assign(mean_churn = np.zeros(len(status_por_uf['status_active'])))\n",
    "\n",
    "status_por_uf['churn']=status_por_uf['status_canceled']/status_por_uf['status_active']*100\n",
    "\n",
    "status_por_uf['mean_churn']=status_por_uf['churn'].mean()"
   ]
  },
  {
   "cell_type": "code",
   "execution_count": 32,
   "id": "96ec6fbf",
   "metadata": {},
   "outputs": [
    {
     "data": {
      "text/html": [
       "<div>\n",
       "<style scoped>\n",
       "    .dataframe tbody tr th:only-of-type {\n",
       "        vertical-align: middle;\n",
       "    }\n",
       "\n",
       "    .dataframe tbody tr th {\n",
       "        vertical-align: top;\n",
       "    }\n",
       "\n",
       "    .dataframe thead th {\n",
       "        text-align: right;\n",
       "    }\n",
       "</style>\n",
       "<table border=\"1\" class=\"dataframe\">\n",
       "  <thead>\n",
       "    <tr style=\"text-align: right;\">\n",
       "      <th></th>\n",
       "      <th>status_active</th>\n",
       "      <th>status_canceled</th>\n",
       "      <th>status_paused</th>\n",
       "      <th>churn</th>\n",
       "      <th>mean_churn</th>\n",
       "    </tr>\n",
       "    <tr>\n",
       "      <th>state</th>\n",
       "      <th></th>\n",
       "      <th></th>\n",
       "      <th></th>\n",
       "      <th></th>\n",
       "      <th></th>\n",
       "    </tr>\n",
       "  </thead>\n",
       "  <tbody>\n",
       "    <tr>\n",
       "      <th>AC</th>\n",
       "      <td>297.0</td>\n",
       "      <td>16.0</td>\n",
       "      <td>44.0</td>\n",
       "      <td>5.387205</td>\n",
       "      <td>5.931822</td>\n",
       "    </tr>\n",
       "    <tr>\n",
       "      <th>AL</th>\n",
       "      <td>301.0</td>\n",
       "      <td>22.0</td>\n",
       "      <td>30.0</td>\n",
       "      <td>7.308970</td>\n",
       "      <td>5.931822</td>\n",
       "    </tr>\n",
       "    <tr>\n",
       "      <th>AM</th>\n",
       "      <td>326.0</td>\n",
       "      <td>23.0</td>\n",
       "      <td>31.0</td>\n",
       "      <td>7.055215</td>\n",
       "      <td>5.931822</td>\n",
       "    </tr>\n",
       "    <tr>\n",
       "      <th>AP</th>\n",
       "      <td>334.0</td>\n",
       "      <td>15.0</td>\n",
       "      <td>32.0</td>\n",
       "      <td>4.491018</td>\n",
       "      <td>5.931822</td>\n",
       "    </tr>\n",
       "    <tr>\n",
       "      <th>BA</th>\n",
       "      <td>314.0</td>\n",
       "      <td>20.0</td>\n",
       "      <td>34.0</td>\n",
       "      <td>6.369427</td>\n",
       "      <td>5.931822</td>\n",
       "    </tr>\n",
       "  </tbody>\n",
       "</table>\n",
       "</div>"
      ],
      "text/plain": [
       "       status_active  status_canceled  status_paused     churn  mean_churn\n",
       "state                                                                     \n",
       "AC             297.0             16.0           44.0  5.387205    5.931822\n",
       "AL             301.0             22.0           30.0  7.308970    5.931822\n",
       "AM             326.0             23.0           31.0  7.055215    5.931822\n",
       "AP             334.0             15.0           32.0  4.491018    5.931822\n",
       "BA             314.0             20.0           34.0  6.369427    5.931822"
      ]
     },
     "execution_count": 32,
     "metadata": {},
     "output_type": "execute_result"
    }
   ],
   "source": [
    "status_por_uf.head()"
   ]
  },
  {
   "cell_type": "code",
   "execution_count": 33,
   "id": "20f930ea",
   "metadata": {},
   "outputs": [
    {
     "data": {
      "text/plain": [
       "<AxesSubplot:xlabel='state'>"
      ]
     },
     "execution_count": 33,
     "metadata": {},
     "output_type": "execute_result"
    },
    {
     "data": {
      "image/png": "[encoded data removed]",
      "text/plain": [
       "<Figure size 1080x576 with 1 Axes>"
      ]
     },
     "metadata": {},
     "output_type": "display_data"
    }
   ],
   "source": [
    "status_por_uf.sort_values(by='churn')['churn'].plot.bar(figsize=(15,8))\n",
    "status_por_uf['mean_churn'].plot(color='red', linestyle='dashed')\n"
   ]
  },
  {
   "cell_type": "markdown",
   "id": "9e03fdae",
   "metadata": {},
   "source": [
    "##### É bem nitida a divisão percentual de cancelamento por estado e este parâmetro pode nos apontar os estados com maior índice percentual."
   ]
  },
  {
   "cell_type": "markdown",
   "id": "690029b4",
   "metadata": {},
   "source": [
    "### Observando a idade dos nossos clientes por estado:"
   ]
  },
  {
   "cell_type": "code",
   "execution_count": 34,
   "id": "ee72d5d3",
   "metadata": {},
   "outputs": [
    {
     "data": {
      "text/plain": [
       "<AxesSubplot:xlabel='state'>"
      ]
     },
     "execution_count": 34,
     "metadata": {},
     "output_type": "execute_result"
    },
    {
     "data": {
      "image/png": "[encoded data removed]",
      "text/plain": [
       "<Figure size 1080x576 with 1 Axes>"
      ]
     },
     "metadata": {},
     "output_type": "display_data"
    }
   ],
   "source": [
    "idade_por_uf=data.groupby(by='state')['age'].agg('mean')\n",
    "idade_por_uf.plot.bar(figsize=(15, 8))"
   ]
  },
  {
   "cell_type": "code",
   "execution_count": 48,
   "id": "e190fb8f",
   "metadata": {},
   "outputs": [
    {
     "data": {
      "image/png": "[encoded data removed]",
      "text/plain": [
       "<Figure size 432x288 with 1 Axes>"
      ]
     },
     "metadata": {},
     "output_type": "display_data"
    }
   ],
   "source": [
    "sns.set_theme(style=\"whitegrid\")\n",
    "\n",
    "ax = sns.boxplot(x=idade_por_uf)"
   ]
  },
  {
   "cell_type": "code",
   "execution_count": 35,
   "id": "60c9e695",
   "metadata": {},
   "outputs": [
    {
     "data": {
      "text/plain": [
       "53.43654648343471"
      ]
     },
     "execution_count": 35,
     "metadata": {},
     "output_type": "execute_result"
    }
   ],
   "source": [
    "idade_por_uf.agg('mean')"
   ]
  },
  {
   "cell_type": "markdown",
   "id": "ba666ca8",
   "metadata": {},
   "source": [
    "##### Bem constante, nos mostra que temos um público bem nixado com a idade média próximo aos 53 anos.\n",
    "\n",
    "Como sugestão seria interessante os dados de sexo/opção sexual e estado civil para uma melhor identificação deste publico alvo."
   ]
  },
  {
   "cell_type": "markdown",
   "id": "d9dd1064",
   "metadata": {},
   "source": [
    "### Analisando o ticket médio por estado:"
   ]
  },
  {
   "cell_type": "code",
   "execution_count": 36,
   "id": "5bc8b2d7",
   "metadata": {},
   "outputs": [
    {
     "data": {
      "text/plain": [
       "<AxesSubplot:xlabel='state'>"
      ]
     },
     "execution_count": 36,
     "metadata": {},
     "output_type": "execute_result"
    },
    {
     "data": {
      "image/png": "[encoded data removed]",
      "text/plain": [
       "<Figure size 1080x576 with 1 Axes>"
      ]
     },
     "metadata": {},
     "output_type": "display_data"
    }
   ],
   "source": [
    "ticket_por_uf=data.groupby(by='state')['average_ticket'].agg('mean')\n",
    "ticket_por_uf.plot.bar(figsize=(15, 8))"
   ]
  },
  {
   "cell_type": "code",
   "execution_count": 37,
   "id": "46525254",
   "metadata": {},
   "outputs": [
    {
     "data": {
      "text/plain": [
       "216.87641716333417"
      ]
     },
     "execution_count": 37,
     "metadata": {},
     "output_type": "execute_result"
    }
   ],
   "source": [
    "ticket_por_uf.agg('mean')"
   ]
  },
  {
   "cell_type": "markdown",
   "id": "42902de8",
   "metadata": {},
   "source": [
    "##### Nos retorna valores constantes também, nos mostra que temos um ticket médio que varia bem pouco por estado com valor médio de R$ 216,87 reais.\n"
   ]
  },
  {
   "cell_type": "markdown",
   "id": "819b2309",
   "metadata": {},
   "source": [
    "###  analisando a arrecadação por estados:"
   ]
  },
  {
   "cell_type": "code",
   "execution_count": 38,
   "id": "38ffcb21",
   "metadata": {},
   "outputs": [
    {
     "data": {
      "text/plain": [
       "<AxesSubplot:xlabel='state'>"
      ]
     },
     "execution_count": 38,
     "metadata": {},
     "output_type": "execute_result"
    },
    {
     "data": {
      "image/png": "[encoded data removed]",
      "text/plain": [
       "<Figure size 1080x576 with 1 Axes>"
      ]
     },
     "metadata": {},
     "output_type": "display_data"
    }
   ],
   "source": [
    "arrecadao_por_uf=(data.groupby(by='state')['all_revenue'].agg('mean')).sort_values()\n",
    "arrecadao_por_uf.plot.bar(figsize=(15, 8))"
   ]
  },
  {
   "cell_type": "markdown",
   "id": "211d4e3b",
   "metadata": {},
   "source": [
    "### Podemos observar como se dá a distribuição dos clientes pelo marketing source:"
   ]
  },
  {
   "cell_type": "code",
   "execution_count": 39,
   "id": "71eb78c0",
   "metadata": {},
   "outputs": [],
   "source": [
    "data=pd.get_dummies(data, columns=['marketing_source'])"
   ]
  },
  {
   "cell_type": "code",
   "execution_count": 57,
   "id": "aa9cc5b8",
   "metadata": {},
   "outputs": [],
   "source": [
    "colunas_=['marketing_source_crm','marketing_source_direct','marketing_source_none','marketing_source_organic_search','marketing_source_paid_search','marketing_source_telegram_whatsapp']"
   ]
  },
  {
   "cell_type": "code",
   "execution_count": 58,
   "id": "f2d30d89",
   "metadata": {},
   "outputs": [],
   "source": [
    "marketing_source_por_uf=data.groupby(by='state')[colunas_].agg('sum')"
   ]
  },
  {
   "cell_type": "markdown",
   "id": "aada9dcf",
   "metadata": {},
   "source": [
    "#### Os dados podem ser ordenados pelo churn a fim de visualizar uma relação de dependência"
   ]
  },
  {
   "cell_type": "code",
   "execution_count": 42,
   "id": "baf2634b",
   "metadata": {},
   "outputs": [],
   "source": [
    "marketing_source_por_uf['churn']=status_por_uf['churn']"
   ]
  },
  {
   "cell_type": "code",
   "execution_count": 43,
   "id": "8da19d42",
   "metadata": {},
   "outputs": [
    {
     "data": {
      "text/html": [
       "<div>\n",
       "<style scoped>\n",
       "    .dataframe tbody tr th:only-of-type {\n",
       "        vertical-align: middle;\n",
       "    }\n",
       "\n",
       "    .dataframe tbody tr th {\n",
       "        vertical-align: top;\n",
       "    }\n",
       "\n",
       "    .dataframe thead th {\n",
       "        text-align: right;\n",
       "    }\n",
       "</style>\n",
       "<table border=\"1\" class=\"dataframe\">\n",
       "  <thead>\n",
       "    <tr style=\"text-align: right;\">\n",
       "      <th></th>\n",
       "      <th>marketing_source_crm</th>\n",
       "      <th>marketing_source_direct</th>\n",
       "      <th>marketing_source_none</th>\n",
       "      <th>marketing_source_organic_search</th>\n",
       "      <th>marketing_source_paid_search</th>\n",
       "      <th>marketing_source_telegram_whatsapp</th>\n",
       "      <th>churn</th>\n",
       "    </tr>\n",
       "    <tr>\n",
       "      <th>state</th>\n",
       "      <th></th>\n",
       "      <th></th>\n",
       "      <th></th>\n",
       "      <th></th>\n",
       "      <th></th>\n",
       "      <th></th>\n",
       "      <th></th>\n",
       "    </tr>\n",
       "  </thead>\n",
       "  <tbody>\n",
       "    <tr>\n",
       "      <th>SC</th>\n",
       "      <td>42</td>\n",
       "      <td>79</td>\n",
       "      <td>21</td>\n",
       "      <td>137</td>\n",
       "      <td>51</td>\n",
       "      <td>40</td>\n",
       "      <td>3.715170</td>\n",
       "    </tr>\n",
       "    <tr>\n",
       "      <th>PI</th>\n",
       "      <td>27</td>\n",
       "      <td>79</td>\n",
       "      <td>15</td>\n",
       "      <td>130</td>\n",
       "      <td>54</td>\n",
       "      <td>33</td>\n",
       "      <td>3.793103</td>\n",
       "    </tr>\n",
       "    <tr>\n",
       "      <th>ES</th>\n",
       "      <td>30</td>\n",
       "      <td>76</td>\n",
       "      <td>21</td>\n",
       "      <td>134</td>\n",
       "      <td>54</td>\n",
       "      <td>37</td>\n",
       "      <td>3.960396</td>\n",
       "    </tr>\n",
       "    <tr>\n",
       "      <th>PB</th>\n",
       "      <td>40</td>\n",
       "      <td>89</td>\n",
       "      <td>24</td>\n",
       "      <td>120</td>\n",
       "      <td>61</td>\n",
       "      <td>38</td>\n",
       "      <td>4.229607</td>\n",
       "    </tr>\n",
       "    <tr>\n",
       "      <th>AP</th>\n",
       "      <td>56</td>\n",
       "      <td>89</td>\n",
       "      <td>19</td>\n",
       "      <td>135</td>\n",
       "      <td>49</td>\n",
       "      <td>33</td>\n",
       "      <td>4.491018</td>\n",
       "    </tr>\n",
       "  </tbody>\n",
       "</table>\n",
       "</div>"
      ],
      "text/plain": [
       "       marketing_source_crm  marketing_source_direct  marketing_source_none  \\\n",
       "state                                                                         \n",
       "SC                       42                       79                     21   \n",
       "PI                       27                       79                     15   \n",
       "ES                       30                       76                     21   \n",
       "PB                       40                       89                     24   \n",
       "AP                       56                       89                     19   \n",
       "\n",
       "       marketing_source_organic_search  marketing_source_paid_search  \\\n",
       "state                                                                  \n",
       "SC                                 137                            51   \n",
       "PI                                 130                            54   \n",
       "ES                                 134                            54   \n",
       "PB                                 120                            61   \n",
       "AP                                 135                            49   \n",
       "\n",
       "       marketing_source_telegram_whatsapp     churn  \n",
       "state                                                \n",
       "SC                                     40  3.715170  \n",
       "PI                                     33  3.793103  \n",
       "ES                                     37  3.960396  \n",
       "PB                                     38  4.229607  \n",
       "AP                                     33  4.491018  "
      ]
     },
     "execution_count": 43,
     "metadata": {},
     "output_type": "execute_result"
    }
   ],
   "source": [
    "marketing_source_por_uf.sort_values(by='churn').head()"
   ]
  },
  {
   "cell_type": "code",
   "execution_count": 44,
   "id": "aa5e2d30",
   "metadata": {},
   "outputs": [
    {
     "data": {
      "text/plain": [
       "<AxesSubplot:xlabel='state'>"
      ]
     },
     "execution_count": 44,
     "metadata": {},
     "output_type": "execute_result"
    },
    {
     "data": {
      "image/png": "[encoded data removed]",
      "text/plain": [
       "<Figure size 1080x576 with 1 Axes>"
      ]
     },
     "metadata": {},
     "output_type": "display_data"
    }
   ],
   "source": [
    "marketing_source_por_uf=marketing_source_por_uf.drop(columns=['churn', 'marketing_source_none'])\n",
    "marketing_source_por_uf.plot.bar(figsize=(15, 8))"
   ]
  },
  {
   "cell_type": "markdown",
   "id": "7963ca12",
   "metadata": {},
   "source": [
    "#### Não conseguimos observar uma relação linear de dependência, mas podemos tentar analisar os valores absolutos (valor/total) de cada seguimento por estado.\n",
    "#### Também podemos olhar para os dados em relação apenas aos que cancelaram a assinatura."
   ]
  },
  {
   "cell_type": "code",
   "execution_count": 70,
   "id": "c49a9e7b",
   "metadata": {},
   "outputs": [
    {
     "data": {
      "text/html": [
       "<div>\n",
       "<style scoped>\n",
       "    .dataframe tbody tr th:only-of-type {\n",
       "        vertical-align: middle;\n",
       "    }\n",
       "\n",
       "    .dataframe tbody tr th {\n",
       "        vertical-align: top;\n",
       "    }\n",
       "\n",
       "    .dataframe thead th {\n",
       "        text-align: right;\n",
       "    }\n",
       "</style>\n",
       "<table border=\"1\" class=\"dataframe\">\n",
       "  <thead>\n",
       "    <tr style=\"text-align: right;\">\n",
       "      <th></th>\n",
       "      <th></th>\n",
       "      <th></th>\n",
       "      <th></th>\n",
       "      <th></th>\n",
       "      <th></th>\n",
       "      <th>created_at</th>\n",
       "      <th>updated_at</th>\n",
       "      <th>deleted_at</th>\n",
       "      <th>age</th>\n",
       "      <th>last_date_purchase</th>\n",
       "      <th>average_ticket</th>\n",
       "      <th>items_quantity</th>\n",
       "      <th>all_revenue</th>\n",
       "      <th>all_orders</th>\n",
       "      <th>recency</th>\n",
       "      <th>days_of_creaton</th>\n",
       "      <th>status_active</th>\n",
       "      <th>status_canceled</th>\n",
       "      <th>status_paused</th>\n",
       "    </tr>\n",
       "    <tr>\n",
       "      <th>marketing_source_crm</th>\n",
       "      <th>marketing_source_direct</th>\n",
       "      <th>marketing_source_none</th>\n",
       "      <th>marketing_source_organic_search</th>\n",
       "      <th>marketing_source_paid_search</th>\n",
       "      <th>marketing_source_telegram_whatsapp</th>\n",
       "      <th></th>\n",
       "      <th></th>\n",
       "      <th></th>\n",
       "      <th></th>\n",
       "      <th></th>\n",
       "      <th></th>\n",
       "      <th></th>\n",
       "      <th></th>\n",
       "      <th></th>\n",
       "      <th></th>\n",
       "      <th></th>\n",
       "      <th></th>\n",
       "      <th></th>\n",
       "      <th></th>\n",
       "    </tr>\n",
       "  </thead>\n",
       "  <tbody>\n",
       "    <tr>\n",
       "      <th rowspan=\"5\" valign=\"top\">0</th>\n",
       "      <th rowspan=\"4\" valign=\"top\">0</th>\n",
       "      <th rowspan=\"3\" valign=\"top\">0</th>\n",
       "      <th rowspan=\"2\" valign=\"top\">0</th>\n",
       "      <th>0</th>\n",
       "      <th>1</th>\n",
       "      <td>435</td>\n",
       "      <td>388</td>\n",
       "      <td>388</td>\n",
       "      <td>3751</td>\n",
       "      <td>421</td>\n",
       "      <td>14253.968880</td>\n",
       "      <td>612</td>\n",
       "      <td>75268.265134</td>\n",
       "      <td>349</td>\n",
       "      <td>43542</td>\n",
       "      <td>81271</td>\n",
       "      <td>0</td>\n",
       "      <td>66</td>\n",
       "      <td>0</td>\n",
       "    </tr>\n",
       "    <tr>\n",
       "      <th>1</th>\n",
       "      <th>0</th>\n",
       "      <td>450</td>\n",
       "      <td>452</td>\n",
       "      <td>452</td>\n",
       "      <td>3852</td>\n",
       "      <td>523</td>\n",
       "      <td>15466.970902</td>\n",
       "      <td>610</td>\n",
       "      <td>68599.516550</td>\n",
       "      <td>310</td>\n",
       "      <td>51397</td>\n",
       "      <td>92371</td>\n",
       "      <td>0</td>\n",
       "      <td>70</td>\n",
       "      <td>0</td>\n",
       "    </tr>\n",
       "    <tr>\n",
       "      <th>1</th>\n",
       "      <th>0</th>\n",
       "      <th>0</th>\n",
       "      <td>1233</td>\n",
       "      <td>1371</td>\n",
       "      <td>1371</td>\n",
       "      <td>10387</td>\n",
       "      <td>1381</td>\n",
       "      <td>42661.988749</td>\n",
       "      <td>1651</td>\n",
       "      <td>198745.305250</td>\n",
       "      <td>906</td>\n",
       "      <td>136520</td>\n",
       "      <td>255956</td>\n",
       "      <td>0</td>\n",
       "      <td>196</td>\n",
       "      <td>0</td>\n",
       "    </tr>\n",
       "    <tr>\n",
       "      <th>1</th>\n",
       "      <th>0</th>\n",
       "      <th>0</th>\n",
       "      <th>0</th>\n",
       "      <td>214</td>\n",
       "      <td>218</td>\n",
       "      <td>218</td>\n",
       "      <td>1777</td>\n",
       "      <td>214</td>\n",
       "      <td>7307.734164</td>\n",
       "      <td>292</td>\n",
       "      <td>39395.915064</td>\n",
       "      <td>182</td>\n",
       "      <td>18755</td>\n",
       "      <td>37001</td>\n",
       "      <td>0</td>\n",
       "      <td>34</td>\n",
       "      <td>0</td>\n",
       "    </tr>\n",
       "    <tr>\n",
       "      <th>1</th>\n",
       "      <th>0</th>\n",
       "      <th>0</th>\n",
       "      <th>0</th>\n",
       "      <th>0</th>\n",
       "      <td>650</td>\n",
       "      <td>627</td>\n",
       "      <td>627</td>\n",
       "      <td>5062</td>\n",
       "      <td>636</td>\n",
       "      <td>20947.999796</td>\n",
       "      <td>823</td>\n",
       "      <td>109171.085025</td>\n",
       "      <td>501</td>\n",
       "      <td>62291</td>\n",
       "      <td>125270</td>\n",
       "      <td>0</td>\n",
       "      <td>96</td>\n",
       "      <td>0</td>\n",
       "    </tr>\n",
       "    <tr>\n",
       "      <th>1</th>\n",
       "      <th>0</th>\n",
       "      <th>0</th>\n",
       "      <th>0</th>\n",
       "      <th>0</th>\n",
       "      <th>0</th>\n",
       "      <td>262</td>\n",
       "      <td>308</td>\n",
       "      <td>308</td>\n",
       "      <td>2281</td>\n",
       "      <td>308</td>\n",
       "      <td>9167.780747</td>\n",
       "      <td>379</td>\n",
       "      <td>43819.817595</td>\n",
       "      <td>205</td>\n",
       "      <td>31385</td>\n",
       "      <td>55085</td>\n",
       "      <td>0</td>\n",
       "      <td>43</td>\n",
       "      <td>0</td>\n",
       "    </tr>\n",
       "  </tbody>\n",
       "</table>\n",
       "</div>"
      ],
      "text/plain": [
       "                                                                                                                                                                    created_at  \\\n",
       "marketing_source_crm marketing_source_direct marketing_source_none marketing_source_organic_search marketing_source_paid_search marketing_source_telegram_whatsapp               \n",
       "0                    0                       0                     0                               0                            1                                          435   \n",
       "                                                                                                   1                            0                                          450   \n",
       "                                                                   1                               0                            0                                         1233   \n",
       "                                             1                     0                               0                            0                                          214   \n",
       "                     1                       0                     0                               0                            0                                          650   \n",
       "1                    0                       0                     0                               0                            0                                          262   \n",
       "\n",
       "                                                                                                                                                                    updated_at  \\\n",
       "marketing_source_crm marketing_source_direct marketing_source_none marketing_source_organic_search marketing_source_paid_search marketing_source_telegram_whatsapp               \n",
       "0                    0                       0                     0                               0                            1                                          388   \n",
       "                                                                                                   1                            0                                          452   \n",
       "                                                                   1                               0                            0                                         1371   \n",
       "                                             1                     0                               0                            0                                          218   \n",
       "                     1                       0                     0                               0                            0                                          627   \n",
       "1                    0                       0                     0                               0                            0                                          308   \n",
       "\n",
       "                                                                                                                                                                    deleted_at  \\\n",
       "marketing_source_crm marketing_source_direct marketing_source_none marketing_source_organic_search marketing_source_paid_search marketing_source_telegram_whatsapp               \n",
       "0                    0                       0                     0                               0                            1                                          388   \n",
       "                                                                                                   1                            0                                          452   \n",
       "                                                                   1                               0                            0                                         1371   \n",
       "                                             1                     0                               0                            0                                          218   \n",
       "                     1                       0                     0                               0                            0                                          627   \n",
       "1                    0                       0                     0                               0                            0                                          308   \n",
       "\n",
       "                                                                                                                                                                      age  \\\n",
       "marketing_source_crm marketing_source_direct marketing_source_none marketing_source_organic_search marketing_source_paid_search marketing_source_telegram_whatsapp          \n",
       "0                    0                       0                     0                               0                            1                                    3751   \n",
       "                                                                                                   1                            0                                    3852   \n",
       "                                                                   1                               0                            0                                   10387   \n",
       "                                             1                     0                               0                            0                                    1777   \n",
       "                     1                       0                     0                               0                            0                                    5062   \n",
       "1                    0                       0                     0                               0                            0                                    2281   \n",
       "\n",
       "                                                                                                                                                                    last_date_purchase  \\\n",
       "marketing_source_crm marketing_source_direct marketing_source_none marketing_source_organic_search marketing_source_paid_search marketing_source_telegram_whatsapp                       \n",
       "0                    0                       0                     0                               0                            1                                                  421   \n",
       "                                                                                                   1                            0                                                  523   \n",
       "                                                                   1                               0                            0                                                 1381   \n",
       "                                             1                     0                               0                            0                                                  214   \n",
       "                     1                       0                     0                               0                            0                                                  636   \n",
       "1                    0                       0                     0                               0                            0                                                  308   \n",
       "\n",
       "                                                                                                                                                                    average_ticket  \\\n",
       "marketing_source_crm marketing_source_direct marketing_source_none marketing_source_organic_search marketing_source_paid_search marketing_source_telegram_whatsapp                   \n",
       "0                    0                       0                     0                               0                            1                                     14253.968880   \n",
       "                                                                                                   1                            0                                     15466.970902   \n",
       "                                                                   1                               0                            0                                     42661.988749   \n",
       "                                             1                     0                               0                            0                                      7307.734164   \n",
       "                     1                       0                     0                               0                            0                                     20947.999796   \n",
       "1                    0                       0                     0                               0                            0                                      9167.780747   \n",
       "\n",
       "                                                                                                                                                                    items_quantity  \\\n",
       "marketing_source_crm marketing_source_direct marketing_source_none marketing_source_organic_search marketing_source_paid_search marketing_source_telegram_whatsapp                   \n",
       "0                    0                       0                     0                               0                            1                                              612   \n",
       "                                                                                                   1                            0                                              610   \n",
       "                                                                   1                               0                            0                                             1651   \n",
       "                                             1                     0                               0                            0                                              292   \n",
       "                     1                       0                     0                               0                            0                                              823   \n",
       "1                    0                       0                     0                               0                            0                                              379   \n",
       "\n",
       "                                                                                                                                                                      all_revenue  \\\n",
       "marketing_source_crm marketing_source_direct marketing_source_none marketing_source_organic_search marketing_source_paid_search marketing_source_telegram_whatsapp                  \n",
       "0                    0                       0                     0                               0                            1                                    75268.265134   \n",
       "                                                                                                   1                            0                                    68599.516550   \n",
       "                                                                   1                               0                            0                                   198745.305250   \n",
       "                                             1                     0                               0                            0                                    39395.915064   \n",
       "                     1                       0                     0                               0                            0                                   109171.085025   \n",
       "1                    0                       0                     0                               0                            0                                    43819.817595   \n",
       "\n",
       "                                                                                                                                                                    all_orders  \\\n",
       "marketing_source_crm marketing_source_direct marketing_source_none marketing_source_organic_search marketing_source_paid_search marketing_source_telegram_whatsapp               \n",
       "0                    0                       0                     0                               0                            1                                          349   \n",
       "                                                                                                   1                            0                                          310   \n",
       "                                                                   1                               0                            0                                          906   \n",
       "                                             1                     0                               0                            0                                          182   \n",
       "                     1                       0                     0                               0                            0                                          501   \n",
       "1                    0                       0                     0                               0                            0                                          205   \n",
       "\n",
       "                                                                                                                                                                    recency  \\\n",
       "marketing_source_crm marketing_source_direct marketing_source_none marketing_source_organic_search marketing_source_paid_search marketing_source_telegram_whatsapp            \n",
       "0                    0                       0                     0                               0                            1                                     43542   \n",
       "                                                                                                   1                            0                                     51397   \n",
       "                                                                   1                               0                            0                                    136520   \n",
       "                                             1                     0                               0                            0                                     18755   \n",
       "                     1                       0                     0                               0                            0                                     62291   \n",
       "1                    0                       0                     0                               0                            0                                     31385   \n",
       "\n",
       "                                                                                                                                                                    days_of_creaton  \\\n",
       "marketing_source_crm marketing_source_direct marketing_source_none marketing_source_organic_search marketing_source_paid_search marketing_source_telegram_whatsapp                    \n",
       "0                    0                       0                     0                               0                            1                                             81271   \n",
       "                                                                                                   1                            0                                             92371   \n",
       "                                                                   1                               0                            0                                            255956   \n",
       "                                             1                     0                               0                            0                                             37001   \n",
       "                     1                       0                     0                               0                            0                                            125270   \n",
       "1                    0                       0                     0                               0                            0                                             55085   \n",
       "\n",
       "                                                                                                                                                                    status_active  \\\n",
       "marketing_source_crm marketing_source_direct marketing_source_none marketing_source_organic_search marketing_source_paid_search marketing_source_telegram_whatsapp                  \n",
       "0                    0                       0                     0                               0                            1                                               0   \n",
       "                                                                                                   1                            0                                               0   \n",
       "                                                                   1                               0                            0                                               0   \n",
       "                                             1                     0                               0                            0                                               0   \n",
       "                     1                       0                     0                               0                            0                                               0   \n",
       "1                    0                       0                     0                               0                            0                                               0   \n",
       "\n",
       "                                                                                                                                                                    status_canceled  \\\n",
       "marketing_source_crm marketing_source_direct marketing_source_none marketing_source_organic_search marketing_source_paid_search marketing_source_telegram_whatsapp                    \n",
       "0                    0                       0                     0                               0                            1                                                66   \n",
       "                                                                                                   1                            0                                                70   \n",
       "                                                                   1                               0                            0                                               196   \n",
       "                                             1                     0                               0                            0                                                34   \n",
       "                     1                       0                     0                               0                            0                                                96   \n",
       "1                    0                       0                     0                               0                            0                                                43   \n",
       "\n",
       "                                                                                                                                                                    status_paused  \n",
       "marketing_source_crm marketing_source_direct marketing_source_none marketing_source_organic_search marketing_source_paid_search marketing_source_telegram_whatsapp                 \n",
       "0                    0                       0                     0                               0                            1                                               0  \n",
       "                                                                                                   1                            0                                               0  \n",
       "                                                                   1                               0                            0                                               0  \n",
       "                                             1                     0                               0                            0                                               0  \n",
       "                     1                       0                     0                               0                            0                                               0  \n",
       "1                    0                       0                     0                               0                            0                                               0  "
      ]
     },
     "execution_count": 70,
     "metadata": {},
     "output_type": "execute_result"
    }
   ],
   "source": [
    "deleted_por_mkt=data[data['status_canceled']==1].groupby(by=colunas_).sum()\n",
    "deleted_por_mkt"
   ]
  },
  {
   "cell_type": "code",
   "execution_count": 45,
   "id": "036ef36e",
   "metadata": {},
   "outputs": [
    {
     "data": {
      "text/plain": [
       "Index(['marketing_source_crm', 'marketing_source_direct',\n",
       "       'marketing_source_organic_search', 'marketing_source_paid_search',\n",
       "       'marketing_source_telegram_whatsapp'],\n",
       "      dtype='object')"
      ]
     },
     "execution_count": 45,
     "metadata": {},
     "output_type": "execute_result"
    }
   ],
   "source": [
    "aux=marketing_source_por_uf.keys()\n",
    "aux"
   ]
  },
  {
   "cell_type": "code",
   "execution_count": 46,
   "id": "d439ddae",
   "metadata": {},
   "outputs": [],
   "source": [
    "marketing_source_por_uf=marketing_source_por_uf.assign(total = np.zeros(len(marketing_source_por_uf['marketing_source_crm'])))\n",
    "    "
   ]
  },
  {
   "cell_type": "code",
   "execution_count": null,
   "id": "3655f012",
   "metadata": {},
   "outputs": [],
   "source": [
    "marketing_source_por_uf.info()"
   ]
  },
  {
   "cell_type": "code",
   "execution_count": null,
   "id": "7de64d90",
   "metadata": {},
   "outputs": [],
   "source": [
    "marketing_source_por_uf.head()"
   ]
  },
  {
   "cell_type": "code",
   "execution_count": null,
   "id": "89b9d962",
   "metadata": {},
   "outputs": [],
   "source": [
    "status_por_uf=status_por_uf.assign(churn = np.zeros(len(status_por_uf['status_active'])))\n",
    "\n",
    "status_por_uf=status_por_uf.assign(mean_churn = np.zeros(len(status_por_uf['status_active'])))\n",
    "\n",
    "status_por_uf['churn']=status_por_uf['status_canceled']/status_por_uf['status_active']*100\n",
    "\n",
    "status_por_uf['mean_churn']=status_por_uf['churn'].mean()"
   ]
  },
  {
   "cell_type": "markdown",
   "id": "d82f22a7",
   "metadata": {},
   "source": [
    "### Podemos olhar para dados geolocalizados:"
   ]
  },
  {
   "cell_type": "code",
   "execution_count": 49,
   "id": "2e84ad43",
   "metadata": {},
   "outputs": [
    {
     "name": "stdout",
     "output_type": "stream",
     "text": [
      "Requirement already satisfied: geopy in c:\\programdata\\anaconda3\\lib\\site-packages (2.2.0)\n",
      "Requirement already satisfied: geographiclib<2,>=1.49 in c:\\programdata\\anaconda3\\lib\\site-packages (from geopy) (1.52)\n"
     ]
    }
   ],
   "source": [
    "!pip install geopy"
   ]
  },
  {
   "cell_type": "code",
   "execution_count": 50,
   "id": "82638d1e",
   "metadata": {},
   "outputs": [],
   "source": [
    "from geopy.geocoders import Nominatim\n",
    "from geopy.extra.rate_limiter import RateLimiter"
   ]
  },
  {
   "cell_type": "code",
   "execution_count": 51,
   "id": "3d159702",
   "metadata": {},
   "outputs": [],
   "source": [
    "locator=Nominatim(user_agent=\"myGeocoder\")\n",
    "#location = locator.geocode(\"boa viagem, recife, pernambuco\")\n",
    "\n",
    "geocode = RateLimiter(locator.geocode, min_delay_seconds=1)"
   ]
  },
  {
   "cell_type": "code",
   "execution_count": null,
   "id": "416321fb",
   "metadata": {},
   "outputs": [],
   "source": [
    "location.point"
   ]
  },
  {
   "cell_type": "code",
   "execution_count": 52,
   "id": "04e472e9",
   "metadata": {},
   "outputs": [],
   "source": [
    "data['address']=data['city']+','+data['state']"
   ]
  },
  {
   "cell_type": "code",
   "execution_count": 54,
   "id": "e9438031",
   "metadata": {},
   "outputs": [
    {
     "ename": "KeyboardInterrupt",
     "evalue": "",
     "output_type": "error",
     "traceback": [
      "\u001b[1;31m---------------------------------------------------------------------------\u001b[0m",
      "\u001b[1;31mKeyboardInterrupt\u001b[0m                         Traceback (most recent call last)",
      "\u001b[1;32m<ipython-input-54-89d3cb048f28>\u001b[0m in \u001b[0;36m<module>\u001b[1;34m\u001b[0m\n\u001b[1;32m----> 1\u001b[1;33m \u001b[0mdata2\u001b[0m\u001b[1;33m[\u001b[0m\u001b[1;34m'address_geo'\u001b[0m\u001b[1;33m]\u001b[0m\u001b[1;33m=\u001b[0m\u001b[0mdata\u001b[0m\u001b[1;33m.\u001b[0m\u001b[0mgroupby\u001b[0m\u001b[1;33m(\u001b[0m\u001b[0mby\u001b[0m\u001b[1;33m=\u001b[0m\u001b[1;34m'address'\u001b[0m\u001b[1;33m)\u001b[0m\u001b[1;33m[\u001b[0m\u001b[1;34m'address'\u001b[0m\u001b[1;33m]\u001b[0m\u001b[1;33m.\u001b[0m\u001b[0mapply\u001b[0m\u001b[1;33m(\u001b[0m\u001b[0mgeocode\u001b[0m\u001b[1;33m)\u001b[0m\u001b[1;33m\u001b[0m\u001b[1;33m\u001b[0m\u001b[0m\n\u001b[0m",
      "\u001b[1;32mC:\\ProgramData\\Anaconda3\\lib\\site-packages\\pandas\\core\\groupby\\generic.py\u001b[0m in \u001b[0;36mapply\u001b[1;34m(self, func, *args, **kwargs)\u001b[0m\n\u001b[0;32m    219\u001b[0m     )\n\u001b[0;32m    220\u001b[0m     \u001b[1;32mdef\u001b[0m \u001b[0mapply\u001b[0m\u001b[1;33m(\u001b[0m\u001b[0mself\u001b[0m\u001b[1;33m,\u001b[0m \u001b[0mfunc\u001b[0m\u001b[1;33m,\u001b[0m \u001b[1;33m*\u001b[0m\u001b[0margs\u001b[0m\u001b[1;33m,\u001b[0m \u001b[1;33m**\u001b[0m\u001b[0mkwargs\u001b[0m\u001b[1;33m)\u001b[0m\u001b[1;33m:\u001b[0m\u001b[1;33m\u001b[0m\u001b[1;33m\u001b[0m\u001b[0m\n\u001b[1;32m--> 221\u001b[1;33m         \u001b[1;32mreturn\u001b[0m \u001b[0msuper\u001b[0m\u001b[1;33m(\u001b[0m\u001b[1;33m)\u001b[0m\u001b[1;33m.\u001b[0m\u001b[0mapply\u001b[0m\u001b[1;33m(\u001b[0m\u001b[0mfunc\u001b[0m\u001b[1;33m,\u001b[0m \u001b[1;33m*\u001b[0m\u001b[0margs\u001b[0m\u001b[1;33m,\u001b[0m \u001b[1;33m**\u001b[0m\u001b[0mkwargs\u001b[0m\u001b[1;33m)\u001b[0m\u001b[1;33m\u001b[0m\u001b[1;33m\u001b[0m\u001b[0m\n\u001b[0m\u001b[0;32m    222\u001b[0m \u001b[1;33m\u001b[0m\u001b[0m\n\u001b[0;32m    223\u001b[0m     \u001b[1;33m@\u001b[0m\u001b[0mdoc\u001b[0m\u001b[1;33m(\u001b[0m\u001b[0m_agg_template\u001b[0m\u001b[1;33m,\u001b[0m \u001b[0mexamples\u001b[0m\u001b[1;33m=\u001b[0m\u001b[0m_agg_examples_doc\u001b[0m\u001b[1;33m,\u001b[0m \u001b[0mklass\u001b[0m\u001b[1;33m=\u001b[0m\u001b[1;34m\"Series\"\u001b[0m\u001b[1;33m)\u001b[0m\u001b[1;33m\u001b[0m\u001b[1;33m\u001b[0m\u001b[0m\n",
      "\u001b[1;32mC:\\ProgramData\\Anaconda3\\lib\\site-packages\\pandas\\core\\groupby\\groupby.py\u001b[0m in \u001b[0;36mapply\u001b[1;34m(self, func, *args, **kwargs)\u001b[0m\n\u001b[0;32m    892\u001b[0m         \u001b[1;32mwith\u001b[0m \u001b[0moption_context\u001b[0m\u001b[1;33m(\u001b[0m\u001b[1;34m\"mode.chained_assignment\"\u001b[0m\u001b[1;33m,\u001b[0m \u001b[1;32mNone\u001b[0m\u001b[1;33m)\u001b[0m\u001b[1;33m:\u001b[0m\u001b[1;33m\u001b[0m\u001b[1;33m\u001b[0m\u001b[0m\n\u001b[0;32m    893\u001b[0m             \u001b[1;32mtry\u001b[0m\u001b[1;33m:\u001b[0m\u001b[1;33m\u001b[0m\u001b[1;33m\u001b[0m\u001b[0m\n\u001b[1;32m--> 894\u001b[1;33m                 \u001b[0mresult\u001b[0m \u001b[1;33m=\u001b[0m \u001b[0mself\u001b[0m\u001b[1;33m.\u001b[0m\u001b[0m_python_apply_general\u001b[0m\u001b[1;33m(\u001b[0m\u001b[0mf\u001b[0m\u001b[1;33m,\u001b[0m \u001b[0mself\u001b[0m\u001b[1;33m.\u001b[0m\u001b[0m_selected_obj\u001b[0m\u001b[1;33m)\u001b[0m\u001b[1;33m\u001b[0m\u001b[1;33m\u001b[0m\u001b[0m\n\u001b[0m\u001b[0;32m    895\u001b[0m             \u001b[1;32mexcept\u001b[0m \u001b[0mTypeError\u001b[0m\u001b[1;33m:\u001b[0m\u001b[1;33m\u001b[0m\u001b[1;33m\u001b[0m\u001b[0m\n\u001b[0;32m    896\u001b[0m                 \u001b[1;31m# gh-20949\u001b[0m\u001b[1;33m\u001b[0m\u001b[1;33m\u001b[0m\u001b[1;33m\u001b[0m\u001b[0m\n",
      "\u001b[1;32mC:\\ProgramData\\Anaconda3\\lib\\site-packages\\pandas\\core\\groupby\\groupby.py\u001b[0m in \u001b[0;36m_python_apply_general\u001b[1;34m(self, f, data)\u001b[0m\n\u001b[0;32m    926\u001b[0m             \u001b[0mdata\u001b[0m \u001b[0mafter\u001b[0m \u001b[0mapplying\u001b[0m \u001b[0mf\u001b[0m\u001b[1;33m\u001b[0m\u001b[1;33m\u001b[0m\u001b[0m\n\u001b[0;32m    927\u001b[0m         \"\"\"\n\u001b[1;32m--> 928\u001b[1;33m         \u001b[0mkeys\u001b[0m\u001b[1;33m,\u001b[0m \u001b[0mvalues\u001b[0m\u001b[1;33m,\u001b[0m \u001b[0mmutated\u001b[0m \u001b[1;33m=\u001b[0m \u001b[0mself\u001b[0m\u001b[1;33m.\u001b[0m\u001b[0mgrouper\u001b[0m\u001b[1;33m.\u001b[0m\u001b[0mapply\u001b[0m\u001b[1;33m(\u001b[0m\u001b[0mf\u001b[0m\u001b[1;33m,\u001b[0m \u001b[0mdata\u001b[0m\u001b[1;33m,\u001b[0m \u001b[0mself\u001b[0m\u001b[1;33m.\u001b[0m\u001b[0maxis\u001b[0m\u001b[1;33m)\u001b[0m\u001b[1;33m\u001b[0m\u001b[1;33m\u001b[0m\u001b[0m\n\u001b[0m\u001b[0;32m    929\u001b[0m \u001b[1;33m\u001b[0m\u001b[0m\n\u001b[0;32m    930\u001b[0m         return self._wrap_applied_output(\n",
      "\u001b[1;32mC:\\ProgramData\\Anaconda3\\lib\\site-packages\\pandas\\core\\groupby\\ops.py\u001b[0m in \u001b[0;36mapply\u001b[1;34m(self, f, data, axis)\u001b[0m\n\u001b[0;32m    236\u001b[0m             \u001b[1;31m# group might be modified\u001b[0m\u001b[1;33m\u001b[0m\u001b[1;33m\u001b[0m\u001b[1;33m\u001b[0m\u001b[0m\n\u001b[0;32m    237\u001b[0m             \u001b[0mgroup_axes\u001b[0m \u001b[1;33m=\u001b[0m \u001b[0mgroup\u001b[0m\u001b[1;33m.\u001b[0m\u001b[0maxes\u001b[0m\u001b[1;33m\u001b[0m\u001b[1;33m\u001b[0m\u001b[0m\n\u001b[1;32m--> 238\u001b[1;33m             \u001b[0mres\u001b[0m \u001b[1;33m=\u001b[0m \u001b[0mf\u001b[0m\u001b[1;33m(\u001b[0m\u001b[0mgroup\u001b[0m\u001b[1;33m)\u001b[0m\u001b[1;33m\u001b[0m\u001b[1;33m\u001b[0m\u001b[0m\n\u001b[0m\u001b[0;32m    239\u001b[0m             \u001b[1;32mif\u001b[0m \u001b[1;32mnot\u001b[0m \u001b[0m_is_indexed_like\u001b[0m\u001b[1;33m(\u001b[0m\u001b[0mres\u001b[0m\u001b[1;33m,\u001b[0m \u001b[0mgroup_axes\u001b[0m\u001b[1;33m,\u001b[0m \u001b[0maxis\u001b[0m\u001b[1;33m)\u001b[0m\u001b[1;33m:\u001b[0m\u001b[1;33m\u001b[0m\u001b[1;33m\u001b[0m\u001b[0m\n\u001b[0;32m    240\u001b[0m                 \u001b[0mmutated\u001b[0m \u001b[1;33m=\u001b[0m \u001b[1;32mTrue\u001b[0m\u001b[1;33m\u001b[0m\u001b[1;33m\u001b[0m\u001b[0m\n",
      "\u001b[1;32mC:\\ProgramData\\Anaconda3\\lib\\site-packages\\geopy\\extra\\rate_limiter.py\u001b[0m in \u001b[0;36m__call__\u001b[1;34m(self, *args, **kwargs)\u001b[0m\n\u001b[0;32m    272\u001b[0m             \u001b[0mself\u001b[0m\u001b[1;33m.\u001b[0m\u001b[0m_acquire_request_slot\u001b[0m\u001b[1;33m(\u001b[0m\u001b[1;33m)\u001b[0m\u001b[1;33m\u001b[0m\u001b[1;33m\u001b[0m\u001b[0m\n\u001b[0;32m    273\u001b[0m             \u001b[1;32mtry\u001b[0m\u001b[1;33m:\u001b[0m\u001b[1;33m\u001b[0m\u001b[1;33m\u001b[0m\u001b[0m\n\u001b[1;32m--> 274\u001b[1;33m                 \u001b[0mres\u001b[0m \u001b[1;33m=\u001b[0m \u001b[0mself\u001b[0m\u001b[1;33m.\u001b[0m\u001b[0mfunc\u001b[0m\u001b[1;33m(\u001b[0m\u001b[1;33m*\u001b[0m\u001b[0margs\u001b[0m\u001b[1;33m,\u001b[0m \u001b[1;33m**\u001b[0m\u001b[0mkwargs\u001b[0m\u001b[1;33m)\u001b[0m\u001b[1;33m\u001b[0m\u001b[1;33m\u001b[0m\u001b[0m\n\u001b[0m\u001b[0;32m    275\u001b[0m                 \u001b[1;32mif\u001b[0m \u001b[0minspect\u001b[0m\u001b[1;33m.\u001b[0m\u001b[0misawaitable\u001b[0m\u001b[1;33m(\u001b[0m\u001b[0mres\u001b[0m\u001b[1;33m)\u001b[0m\u001b[1;33m:\u001b[0m\u001b[1;33m\u001b[0m\u001b[1;33m\u001b[0m\u001b[0m\n\u001b[0;32m    276\u001b[0m                     raise ValueError(\n",
      "\u001b[1;32mC:\\ProgramData\\Anaconda3\\lib\\site-packages\\geopy\\geocoders\\nominatim.py\u001b[0m in \u001b[0;36mgeocode\u001b[1;34m(self, query, exactly_one, timeout, limit, addressdetails, language, geometry, extratags, country_codes, viewbox, bounded, featuretype, namedetails)\u001b[0m\n\u001b[0;32m    295\u001b[0m         \u001b[0mlogger\u001b[0m\u001b[1;33m.\u001b[0m\u001b[0mdebug\u001b[0m\u001b[1;33m(\u001b[0m\u001b[1;34m\"%s.geocode: %s\"\u001b[0m\u001b[1;33m,\u001b[0m \u001b[0mself\u001b[0m\u001b[1;33m.\u001b[0m\u001b[0m__class__\u001b[0m\u001b[1;33m.\u001b[0m\u001b[0m__name__\u001b[0m\u001b[1;33m,\u001b[0m \u001b[0murl\u001b[0m\u001b[1;33m)\u001b[0m\u001b[1;33m\u001b[0m\u001b[1;33m\u001b[0m\u001b[0m\n\u001b[0;32m    296\u001b[0m         \u001b[0mcallback\u001b[0m \u001b[1;33m=\u001b[0m \u001b[0mpartial\u001b[0m\u001b[1;33m(\u001b[0m\u001b[0mself\u001b[0m\u001b[1;33m.\u001b[0m\u001b[0m_parse_json\u001b[0m\u001b[1;33m,\u001b[0m \u001b[0mexactly_one\u001b[0m\u001b[1;33m=\u001b[0m\u001b[0mexactly_one\u001b[0m\u001b[1;33m)\u001b[0m\u001b[1;33m\u001b[0m\u001b[1;33m\u001b[0m\u001b[0m\n\u001b[1;32m--> 297\u001b[1;33m         \u001b[1;32mreturn\u001b[0m \u001b[0mself\u001b[0m\u001b[1;33m.\u001b[0m\u001b[0m_call_geocoder\u001b[0m\u001b[1;33m(\u001b[0m\u001b[0murl\u001b[0m\u001b[1;33m,\u001b[0m \u001b[0mcallback\u001b[0m\u001b[1;33m,\u001b[0m \u001b[0mtimeout\u001b[0m\u001b[1;33m=\u001b[0m\u001b[0mtimeout\u001b[0m\u001b[1;33m)\u001b[0m\u001b[1;33m\u001b[0m\u001b[1;33m\u001b[0m\u001b[0m\n\u001b[0m\u001b[0;32m    298\u001b[0m \u001b[1;33m\u001b[0m\u001b[0m\n\u001b[0;32m    299\u001b[0m     def reverse(\n",
      "\u001b[1;32mC:\\ProgramData\\Anaconda3\\lib\\site-packages\\geopy\\geocoders\\base.py\u001b[0m in \u001b[0;36m_call_geocoder\u001b[1;34m(self, url, callback, timeout, is_json, headers)\u001b[0m\n\u001b[0;32m    366\u001b[0m         \u001b[1;32mtry\u001b[0m\u001b[1;33m:\u001b[0m\u001b[1;33m\u001b[0m\u001b[1;33m\u001b[0m\u001b[0m\n\u001b[0;32m    367\u001b[0m             \u001b[1;32mif\u001b[0m \u001b[0mis_json\u001b[0m\u001b[1;33m:\u001b[0m\u001b[1;33m\u001b[0m\u001b[1;33m\u001b[0m\u001b[0m\n\u001b[1;32m--> 368\u001b[1;33m                 \u001b[0mresult\u001b[0m \u001b[1;33m=\u001b[0m \u001b[0mself\u001b[0m\u001b[1;33m.\u001b[0m\u001b[0madapter\u001b[0m\u001b[1;33m.\u001b[0m\u001b[0mget_json\u001b[0m\u001b[1;33m(\u001b[0m\u001b[0murl\u001b[0m\u001b[1;33m,\u001b[0m \u001b[0mtimeout\u001b[0m\u001b[1;33m=\u001b[0m\u001b[0mtimeout\u001b[0m\u001b[1;33m,\u001b[0m \u001b[0mheaders\u001b[0m\u001b[1;33m=\u001b[0m\u001b[0mreq_headers\u001b[0m\u001b[1;33m)\u001b[0m\u001b[1;33m\u001b[0m\u001b[1;33m\u001b[0m\u001b[0m\n\u001b[0m\u001b[0;32m    369\u001b[0m             \u001b[1;32melse\u001b[0m\u001b[1;33m:\u001b[0m\u001b[1;33m\u001b[0m\u001b[1;33m\u001b[0m\u001b[0m\n\u001b[0;32m    370\u001b[0m                 \u001b[0mresult\u001b[0m \u001b[1;33m=\u001b[0m \u001b[0mself\u001b[0m\u001b[1;33m.\u001b[0m\u001b[0madapter\u001b[0m\u001b[1;33m.\u001b[0m\u001b[0mget_text\u001b[0m\u001b[1;33m(\u001b[0m\u001b[0murl\u001b[0m\u001b[1;33m,\u001b[0m \u001b[0mtimeout\u001b[0m\u001b[1;33m=\u001b[0m\u001b[0mtimeout\u001b[0m\u001b[1;33m,\u001b[0m \u001b[0mheaders\u001b[0m\u001b[1;33m=\u001b[0m\u001b[0mreq_headers\u001b[0m\u001b[1;33m)\u001b[0m\u001b[1;33m\u001b[0m\u001b[1;33m\u001b[0m\u001b[0m\n",
      "\u001b[1;32mC:\\ProgramData\\Anaconda3\\lib\\site-packages\\geopy\\adapters.py\u001b[0m in \u001b[0;36mget_json\u001b[1;34m(self, url, timeout, headers)\u001b[0m\n\u001b[0;32m    436\u001b[0m \u001b[1;33m\u001b[0m\u001b[0m\n\u001b[0;32m    437\u001b[0m     \u001b[1;32mdef\u001b[0m \u001b[0mget_json\u001b[0m\u001b[1;33m(\u001b[0m\u001b[0mself\u001b[0m\u001b[1;33m,\u001b[0m \u001b[0murl\u001b[0m\u001b[1;33m,\u001b[0m \u001b[1;33m*\u001b[0m\u001b[1;33m,\u001b[0m \u001b[0mtimeout\u001b[0m\u001b[1;33m,\u001b[0m \u001b[0mheaders\u001b[0m\u001b[1;33m)\u001b[0m\u001b[1;33m:\u001b[0m\u001b[1;33m\u001b[0m\u001b[1;33m\u001b[0m\u001b[0m\n\u001b[1;32m--> 438\u001b[1;33m         \u001b[0mresp\u001b[0m \u001b[1;33m=\u001b[0m \u001b[0mself\u001b[0m\u001b[1;33m.\u001b[0m\u001b[0m_request\u001b[0m\u001b[1;33m(\u001b[0m\u001b[0murl\u001b[0m\u001b[1;33m,\u001b[0m \u001b[0mtimeout\u001b[0m\u001b[1;33m=\u001b[0m\u001b[0mtimeout\u001b[0m\u001b[1;33m,\u001b[0m \u001b[0mheaders\u001b[0m\u001b[1;33m=\u001b[0m\u001b[0mheaders\u001b[0m\u001b[1;33m)\u001b[0m\u001b[1;33m\u001b[0m\u001b[1;33m\u001b[0m\u001b[0m\n\u001b[0m\u001b[0;32m    439\u001b[0m         \u001b[1;32mtry\u001b[0m\u001b[1;33m:\u001b[0m\u001b[1;33m\u001b[0m\u001b[1;33m\u001b[0m\u001b[0m\n\u001b[0;32m    440\u001b[0m             \u001b[1;32mreturn\u001b[0m \u001b[0mresp\u001b[0m\u001b[1;33m.\u001b[0m\u001b[0mjson\u001b[0m\u001b[1;33m(\u001b[0m\u001b[1;33m)\u001b[0m\u001b[1;33m\u001b[0m\u001b[1;33m\u001b[0m\u001b[0m\n",
      "\u001b[1;32mC:\\ProgramData\\Anaconda3\\lib\\site-packages\\geopy\\adapters.py\u001b[0m in \u001b[0;36m_request\u001b[1;34m(self, url, timeout, headers)\u001b[0m\n\u001b[0;32m    446\u001b[0m     \u001b[1;32mdef\u001b[0m \u001b[0m_request\u001b[0m\u001b[1;33m(\u001b[0m\u001b[0mself\u001b[0m\u001b[1;33m,\u001b[0m \u001b[0murl\u001b[0m\u001b[1;33m,\u001b[0m \u001b[1;33m*\u001b[0m\u001b[1;33m,\u001b[0m \u001b[0mtimeout\u001b[0m\u001b[1;33m,\u001b[0m \u001b[0mheaders\u001b[0m\u001b[1;33m)\u001b[0m\u001b[1;33m:\u001b[0m\u001b[1;33m\u001b[0m\u001b[1;33m\u001b[0m\u001b[0m\n\u001b[0;32m    447\u001b[0m         \u001b[1;32mtry\u001b[0m\u001b[1;33m:\u001b[0m\u001b[1;33m\u001b[0m\u001b[1;33m\u001b[0m\u001b[0m\n\u001b[1;32m--> 448\u001b[1;33m             \u001b[0mresp\u001b[0m \u001b[1;33m=\u001b[0m \u001b[0mself\u001b[0m\u001b[1;33m.\u001b[0m\u001b[0msession\u001b[0m\u001b[1;33m.\u001b[0m\u001b[0mget\u001b[0m\u001b[1;33m(\u001b[0m\u001b[0murl\u001b[0m\u001b[1;33m,\u001b[0m \u001b[0mtimeout\u001b[0m\u001b[1;33m=\u001b[0m\u001b[0mtimeout\u001b[0m\u001b[1;33m,\u001b[0m \u001b[0mheaders\u001b[0m\u001b[1;33m=\u001b[0m\u001b[0mheaders\u001b[0m\u001b[1;33m)\u001b[0m\u001b[1;33m\u001b[0m\u001b[1;33m\u001b[0m\u001b[0m\n\u001b[0m\u001b[0;32m    449\u001b[0m         \u001b[1;32mexcept\u001b[0m \u001b[0mException\u001b[0m \u001b[1;32mas\u001b[0m \u001b[0merror\u001b[0m\u001b[1;33m:\u001b[0m\u001b[1;33m\u001b[0m\u001b[1;33m\u001b[0m\u001b[0m\n\u001b[0;32m    450\u001b[0m             \u001b[0mmessage\u001b[0m \u001b[1;33m=\u001b[0m \u001b[0mstr\u001b[0m\u001b[1;33m(\u001b[0m\u001b[0merror\u001b[0m\u001b[1;33m)\u001b[0m\u001b[1;33m\u001b[0m\u001b[1;33m\u001b[0m\u001b[0m\n",
      "\u001b[1;32mC:\\ProgramData\\Anaconda3\\lib\\site-packages\\requests\\sessions.py\u001b[0m in \u001b[0;36mget\u001b[1;34m(self, url, **kwargs)\u001b[0m\n\u001b[0;32m    553\u001b[0m \u001b[1;33m\u001b[0m\u001b[0m\n\u001b[0;32m    554\u001b[0m         \u001b[0mkwargs\u001b[0m\u001b[1;33m.\u001b[0m\u001b[0msetdefault\u001b[0m\u001b[1;33m(\u001b[0m\u001b[1;34m'allow_redirects'\u001b[0m\u001b[1;33m,\u001b[0m \u001b[1;32mTrue\u001b[0m\u001b[1;33m)\u001b[0m\u001b[1;33m\u001b[0m\u001b[1;33m\u001b[0m\u001b[0m\n\u001b[1;32m--> 555\u001b[1;33m         \u001b[1;32mreturn\u001b[0m \u001b[0mself\u001b[0m\u001b[1;33m.\u001b[0m\u001b[0mrequest\u001b[0m\u001b[1;33m(\u001b[0m\u001b[1;34m'GET'\u001b[0m\u001b[1;33m,\u001b[0m \u001b[0murl\u001b[0m\u001b[1;33m,\u001b[0m \u001b[1;33m**\u001b[0m\u001b[0mkwargs\u001b[0m\u001b[1;33m)\u001b[0m\u001b[1;33m\u001b[0m\u001b[1;33m\u001b[0m\u001b[0m\n\u001b[0m\u001b[0;32m    556\u001b[0m \u001b[1;33m\u001b[0m\u001b[0m\n\u001b[0;32m    557\u001b[0m     \u001b[1;32mdef\u001b[0m \u001b[0moptions\u001b[0m\u001b[1;33m(\u001b[0m\u001b[0mself\u001b[0m\u001b[1;33m,\u001b[0m \u001b[0murl\u001b[0m\u001b[1;33m,\u001b[0m \u001b[1;33m**\u001b[0m\u001b[0mkwargs\u001b[0m\u001b[1;33m)\u001b[0m\u001b[1;33m:\u001b[0m\u001b[1;33m\u001b[0m\u001b[1;33m\u001b[0m\u001b[0m\n",
      "\u001b[1;32mC:\\ProgramData\\Anaconda3\\lib\\site-packages\\requests\\sessions.py\u001b[0m in \u001b[0;36mrequest\u001b[1;34m(self, method, url, params, data, headers, cookies, files, auth, timeout, allow_redirects, proxies, hooks, stream, verify, cert, json)\u001b[0m\n\u001b[0;32m    540\u001b[0m         }\n\u001b[0;32m    541\u001b[0m         \u001b[0msend_kwargs\u001b[0m\u001b[1;33m.\u001b[0m\u001b[0mupdate\u001b[0m\u001b[1;33m(\u001b[0m\u001b[0msettings\u001b[0m\u001b[1;33m)\u001b[0m\u001b[1;33m\u001b[0m\u001b[1;33m\u001b[0m\u001b[0m\n\u001b[1;32m--> 542\u001b[1;33m         \u001b[0mresp\u001b[0m \u001b[1;33m=\u001b[0m \u001b[0mself\u001b[0m\u001b[1;33m.\u001b[0m\u001b[0msend\u001b[0m\u001b[1;33m(\u001b[0m\u001b[0mprep\u001b[0m\u001b[1;33m,\u001b[0m \u001b[1;33m**\u001b[0m\u001b[0msend_kwargs\u001b[0m\u001b[1;33m)\u001b[0m\u001b[1;33m\u001b[0m\u001b[1;33m\u001b[0m\u001b[0m\n\u001b[0m\u001b[0;32m    543\u001b[0m \u001b[1;33m\u001b[0m\u001b[0m\n\u001b[0;32m    544\u001b[0m         \u001b[1;32mreturn\u001b[0m \u001b[0mresp\u001b[0m\u001b[1;33m\u001b[0m\u001b[1;33m\u001b[0m\u001b[0m\n",
      "\u001b[1;32mC:\\ProgramData\\Anaconda3\\lib\\site-packages\\requests\\sessions.py\u001b[0m in \u001b[0;36msend\u001b[1;34m(self, request, **kwargs)\u001b[0m\n\u001b[0;32m    653\u001b[0m \u001b[1;33m\u001b[0m\u001b[0m\n\u001b[0;32m    654\u001b[0m         \u001b[1;31m# Send the request\u001b[0m\u001b[1;33m\u001b[0m\u001b[1;33m\u001b[0m\u001b[1;33m\u001b[0m\u001b[0m\n\u001b[1;32m--> 655\u001b[1;33m         \u001b[0mr\u001b[0m \u001b[1;33m=\u001b[0m \u001b[0madapter\u001b[0m\u001b[1;33m.\u001b[0m\u001b[0msend\u001b[0m\u001b[1;33m(\u001b[0m\u001b[0mrequest\u001b[0m\u001b[1;33m,\u001b[0m \u001b[1;33m**\u001b[0m\u001b[0mkwargs\u001b[0m\u001b[1;33m)\u001b[0m\u001b[1;33m\u001b[0m\u001b[1;33m\u001b[0m\u001b[0m\n\u001b[0m\u001b[0;32m    656\u001b[0m \u001b[1;33m\u001b[0m\u001b[0m\n\u001b[0;32m    657\u001b[0m         \u001b[1;31m# Total elapsed time of the request (approximately)\u001b[0m\u001b[1;33m\u001b[0m\u001b[1;33m\u001b[0m\u001b[1;33m\u001b[0m\u001b[0m\n",
      "\u001b[1;32mC:\\ProgramData\\Anaconda3\\lib\\site-packages\\requests\\adapters.py\u001b[0m in \u001b[0;36msend\u001b[1;34m(self, request, stream, timeout, verify, cert, proxies)\u001b[0m\n\u001b[0;32m    437\u001b[0m         \u001b[1;32mtry\u001b[0m\u001b[1;33m:\u001b[0m\u001b[1;33m\u001b[0m\u001b[1;33m\u001b[0m\u001b[0m\n\u001b[0;32m    438\u001b[0m             \u001b[1;32mif\u001b[0m \u001b[1;32mnot\u001b[0m \u001b[0mchunked\u001b[0m\u001b[1;33m:\u001b[0m\u001b[1;33m\u001b[0m\u001b[1;33m\u001b[0m\u001b[0m\n\u001b[1;32m--> 439\u001b[1;33m                 resp = conn.urlopen(\n\u001b[0m\u001b[0;32m    440\u001b[0m                     \u001b[0mmethod\u001b[0m\u001b[1;33m=\u001b[0m\u001b[0mrequest\u001b[0m\u001b[1;33m.\u001b[0m\u001b[0mmethod\u001b[0m\u001b[1;33m,\u001b[0m\u001b[1;33m\u001b[0m\u001b[1;33m\u001b[0m\u001b[0m\n\u001b[0;32m    441\u001b[0m                     \u001b[0murl\u001b[0m\u001b[1;33m=\u001b[0m\u001b[0murl\u001b[0m\u001b[1;33m,\u001b[0m\u001b[1;33m\u001b[0m\u001b[1;33m\u001b[0m\u001b[0m\n",
      "\u001b[1;32mC:\\ProgramData\\Anaconda3\\lib\\site-packages\\urllib3\\connectionpool.py\u001b[0m in \u001b[0;36murlopen\u001b[1;34m(self, method, url, body, headers, retries, redirect, assert_same_host, timeout, pool_timeout, release_conn, chunked, body_pos, **response_kw)\u001b[0m\n\u001b[0;32m    697\u001b[0m \u001b[1;33m\u001b[0m\u001b[0m\n\u001b[0;32m    698\u001b[0m             \u001b[1;31m# Make the request on the httplib connection object.\u001b[0m\u001b[1;33m\u001b[0m\u001b[1;33m\u001b[0m\u001b[1;33m\u001b[0m\u001b[0m\n\u001b[1;32m--> 699\u001b[1;33m             httplib_response = self._make_request(\n\u001b[0m\u001b[0;32m    700\u001b[0m                 \u001b[0mconn\u001b[0m\u001b[1;33m,\u001b[0m\u001b[1;33m\u001b[0m\u001b[1;33m\u001b[0m\u001b[0m\n\u001b[0;32m    701\u001b[0m                 \u001b[0mmethod\u001b[0m\u001b[1;33m,\u001b[0m\u001b[1;33m\u001b[0m\u001b[1;33m\u001b[0m\u001b[0m\n",
      "\u001b[1;32mC:\\ProgramData\\Anaconda3\\lib\\site-packages\\urllib3\\connectionpool.py\u001b[0m in \u001b[0;36m_make_request\u001b[1;34m(self, conn, method, url, timeout, chunked, **httplib_request_kw)\u001b[0m\n\u001b[0;32m    443\u001b[0m                     \u001b[1;31m# Python 3 (including for exceptions like SystemExit).\u001b[0m\u001b[1;33m\u001b[0m\u001b[1;33m\u001b[0m\u001b[1;33m\u001b[0m\u001b[0m\n\u001b[0;32m    444\u001b[0m                     \u001b[1;31m# Otherwise it looks like a bug in the code.\u001b[0m\u001b[1;33m\u001b[0m\u001b[1;33m\u001b[0m\u001b[1;33m\u001b[0m\u001b[0m\n\u001b[1;32m--> 445\u001b[1;33m                     \u001b[0msix\u001b[0m\u001b[1;33m.\u001b[0m\u001b[0mraise_from\u001b[0m\u001b[1;33m(\u001b[0m\u001b[0me\u001b[0m\u001b[1;33m,\u001b[0m \u001b[1;32mNone\u001b[0m\u001b[1;33m)\u001b[0m\u001b[1;33m\u001b[0m\u001b[1;33m\u001b[0m\u001b[0m\n\u001b[0m\u001b[0;32m    446\u001b[0m         \u001b[1;32mexcept\u001b[0m \u001b[1;33m(\u001b[0m\u001b[0mSocketTimeout\u001b[0m\u001b[1;33m,\u001b[0m \u001b[0mBaseSSLError\u001b[0m\u001b[1;33m,\u001b[0m \u001b[0mSocketError\u001b[0m\u001b[1;33m)\u001b[0m \u001b[1;32mas\u001b[0m \u001b[0me\u001b[0m\u001b[1;33m:\u001b[0m\u001b[1;33m\u001b[0m\u001b[1;33m\u001b[0m\u001b[0m\n\u001b[0;32m    447\u001b[0m             \u001b[0mself\u001b[0m\u001b[1;33m.\u001b[0m\u001b[0m_raise_timeout\u001b[0m\u001b[1;33m(\u001b[0m\u001b[0merr\u001b[0m\u001b[1;33m=\u001b[0m\u001b[0me\u001b[0m\u001b[1;33m,\u001b[0m \u001b[0murl\u001b[0m\u001b[1;33m=\u001b[0m\u001b[0murl\u001b[0m\u001b[1;33m,\u001b[0m \u001b[0mtimeout_value\u001b[0m\u001b[1;33m=\u001b[0m\u001b[0mread_timeout\u001b[0m\u001b[1;33m)\u001b[0m\u001b[1;33m\u001b[0m\u001b[1;33m\u001b[0m\u001b[0m\n",
      "\u001b[1;32mC:\\ProgramData\\Anaconda3\\lib\\site-packages\\urllib3\\packages\\six.py\u001b[0m in \u001b[0;36mraise_from\u001b[1;34m(value, from_value)\u001b[0m\n",
      "\u001b[1;32mC:\\ProgramData\\Anaconda3\\lib\\site-packages\\urllib3\\connectionpool.py\u001b[0m in \u001b[0;36m_make_request\u001b[1;34m(self, conn, method, url, timeout, chunked, **httplib_request_kw)\u001b[0m\n\u001b[0;32m    438\u001b[0m                 \u001b[1;31m# Python 3\u001b[0m\u001b[1;33m\u001b[0m\u001b[1;33m\u001b[0m\u001b[1;33m\u001b[0m\u001b[0m\n\u001b[0;32m    439\u001b[0m                 \u001b[1;32mtry\u001b[0m\u001b[1;33m:\u001b[0m\u001b[1;33m\u001b[0m\u001b[1;33m\u001b[0m\u001b[0m\n\u001b[1;32m--> 440\u001b[1;33m                     \u001b[0mhttplib_response\u001b[0m \u001b[1;33m=\u001b[0m \u001b[0mconn\u001b[0m\u001b[1;33m.\u001b[0m\u001b[0mgetresponse\u001b[0m\u001b[1;33m(\u001b[0m\u001b[1;33m)\u001b[0m\u001b[1;33m\u001b[0m\u001b[1;33m\u001b[0m\u001b[0m\n\u001b[0m\u001b[0;32m    441\u001b[0m                 \u001b[1;32mexcept\u001b[0m \u001b[0mBaseException\u001b[0m \u001b[1;32mas\u001b[0m \u001b[0me\u001b[0m\u001b[1;33m:\u001b[0m\u001b[1;33m\u001b[0m\u001b[1;33m\u001b[0m\u001b[0m\n\u001b[0;32m    442\u001b[0m                     \u001b[1;31m# Remove the TypeError from the exception chain in\u001b[0m\u001b[1;33m\u001b[0m\u001b[1;33m\u001b[0m\u001b[1;33m\u001b[0m\u001b[0m\n",
      "\u001b[1;32mC:\\ProgramData\\Anaconda3\\lib\\http\\client.py\u001b[0m in \u001b[0;36mgetresponse\u001b[1;34m(self)\u001b[0m\n\u001b[0;32m   1345\u001b[0m         \u001b[1;32mtry\u001b[0m\u001b[1;33m:\u001b[0m\u001b[1;33m\u001b[0m\u001b[1;33m\u001b[0m\u001b[0m\n\u001b[0;32m   1346\u001b[0m             \u001b[1;32mtry\u001b[0m\u001b[1;33m:\u001b[0m\u001b[1;33m\u001b[0m\u001b[1;33m\u001b[0m\u001b[0m\n\u001b[1;32m-> 1347\u001b[1;33m                 \u001b[0mresponse\u001b[0m\u001b[1;33m.\u001b[0m\u001b[0mbegin\u001b[0m\u001b[1;33m(\u001b[0m\u001b[1;33m)\u001b[0m\u001b[1;33m\u001b[0m\u001b[1;33m\u001b[0m\u001b[0m\n\u001b[0m\u001b[0;32m   1348\u001b[0m             \u001b[1;32mexcept\u001b[0m \u001b[0mConnectionError\u001b[0m\u001b[1;33m:\u001b[0m\u001b[1;33m\u001b[0m\u001b[1;33m\u001b[0m\u001b[0m\n\u001b[0;32m   1349\u001b[0m                 \u001b[0mself\u001b[0m\u001b[1;33m.\u001b[0m\u001b[0mclose\u001b[0m\u001b[1;33m(\u001b[0m\u001b[1;33m)\u001b[0m\u001b[1;33m\u001b[0m\u001b[1;33m\u001b[0m\u001b[0m\n",
      "\u001b[1;32mC:\\ProgramData\\Anaconda3\\lib\\http\\client.py\u001b[0m in \u001b[0;36mbegin\u001b[1;34m(self)\u001b[0m\n\u001b[0;32m    305\u001b[0m         \u001b[1;31m# read until we get a non-100 response\u001b[0m\u001b[1;33m\u001b[0m\u001b[1;33m\u001b[0m\u001b[1;33m\u001b[0m\u001b[0m\n\u001b[0;32m    306\u001b[0m         \u001b[1;32mwhile\u001b[0m \u001b[1;32mTrue\u001b[0m\u001b[1;33m:\u001b[0m\u001b[1;33m\u001b[0m\u001b[1;33m\u001b[0m\u001b[0m\n\u001b[1;32m--> 307\u001b[1;33m             \u001b[0mversion\u001b[0m\u001b[1;33m,\u001b[0m \u001b[0mstatus\u001b[0m\u001b[1;33m,\u001b[0m \u001b[0mreason\u001b[0m \u001b[1;33m=\u001b[0m \u001b[0mself\u001b[0m\u001b[1;33m.\u001b[0m\u001b[0m_read_status\u001b[0m\u001b[1;33m(\u001b[0m\u001b[1;33m)\u001b[0m\u001b[1;33m\u001b[0m\u001b[1;33m\u001b[0m\u001b[0m\n\u001b[0m\u001b[0;32m    308\u001b[0m             \u001b[1;32mif\u001b[0m \u001b[0mstatus\u001b[0m \u001b[1;33m!=\u001b[0m \u001b[0mCONTINUE\u001b[0m\u001b[1;33m:\u001b[0m\u001b[1;33m\u001b[0m\u001b[1;33m\u001b[0m\u001b[0m\n\u001b[0;32m    309\u001b[0m                 \u001b[1;32mbreak\u001b[0m\u001b[1;33m\u001b[0m\u001b[1;33m\u001b[0m\u001b[0m\n",
      "\u001b[1;32mC:\\ProgramData\\Anaconda3\\lib\\http\\client.py\u001b[0m in \u001b[0;36m_read_status\u001b[1;34m(self)\u001b[0m\n\u001b[0;32m    266\u001b[0m \u001b[1;33m\u001b[0m\u001b[0m\n\u001b[0;32m    267\u001b[0m     \u001b[1;32mdef\u001b[0m \u001b[0m_read_status\u001b[0m\u001b[1;33m(\u001b[0m\u001b[0mself\u001b[0m\u001b[1;33m)\u001b[0m\u001b[1;33m:\u001b[0m\u001b[1;33m\u001b[0m\u001b[1;33m\u001b[0m\u001b[0m\n\u001b[1;32m--> 268\u001b[1;33m         \u001b[0mline\u001b[0m \u001b[1;33m=\u001b[0m \u001b[0mstr\u001b[0m\u001b[1;33m(\u001b[0m\u001b[0mself\u001b[0m\u001b[1;33m.\u001b[0m\u001b[0mfp\u001b[0m\u001b[1;33m.\u001b[0m\u001b[0mreadline\u001b[0m\u001b[1;33m(\u001b[0m\u001b[0m_MAXLINE\u001b[0m \u001b[1;33m+\u001b[0m \u001b[1;36m1\u001b[0m\u001b[1;33m)\u001b[0m\u001b[1;33m,\u001b[0m \u001b[1;34m\"iso-8859-1\"\u001b[0m\u001b[1;33m)\u001b[0m\u001b[1;33m\u001b[0m\u001b[1;33m\u001b[0m\u001b[0m\n\u001b[0m\u001b[0;32m    269\u001b[0m         \u001b[1;32mif\u001b[0m \u001b[0mlen\u001b[0m\u001b[1;33m(\u001b[0m\u001b[0mline\u001b[0m\u001b[1;33m)\u001b[0m \u001b[1;33m>\u001b[0m \u001b[0m_MAXLINE\u001b[0m\u001b[1;33m:\u001b[0m\u001b[1;33m\u001b[0m\u001b[1;33m\u001b[0m\u001b[0m\n\u001b[0;32m    270\u001b[0m             \u001b[1;32mraise\u001b[0m \u001b[0mLineTooLong\u001b[0m\u001b[1;33m(\u001b[0m\u001b[1;34m\"status line\"\u001b[0m\u001b[1;33m)\u001b[0m\u001b[1;33m\u001b[0m\u001b[1;33m\u001b[0m\u001b[0m\n",
      "\u001b[1;32mC:\\ProgramData\\Anaconda3\\lib\\socket.py\u001b[0m in \u001b[0;36mreadinto\u001b[1;34m(self, b)\u001b[0m\n\u001b[0;32m    667\u001b[0m         \u001b[1;32mwhile\u001b[0m \u001b[1;32mTrue\u001b[0m\u001b[1;33m:\u001b[0m\u001b[1;33m\u001b[0m\u001b[1;33m\u001b[0m\u001b[0m\n\u001b[0;32m    668\u001b[0m             \u001b[1;32mtry\u001b[0m\u001b[1;33m:\u001b[0m\u001b[1;33m\u001b[0m\u001b[1;33m\u001b[0m\u001b[0m\n\u001b[1;32m--> 669\u001b[1;33m                 \u001b[1;32mreturn\u001b[0m \u001b[0mself\u001b[0m\u001b[1;33m.\u001b[0m\u001b[0m_sock\u001b[0m\u001b[1;33m.\u001b[0m\u001b[0mrecv_into\u001b[0m\u001b[1;33m(\u001b[0m\u001b[0mb\u001b[0m\u001b[1;33m)\u001b[0m\u001b[1;33m\u001b[0m\u001b[1;33m\u001b[0m\u001b[0m\n\u001b[0m\u001b[0;32m    670\u001b[0m             \u001b[1;32mexcept\u001b[0m \u001b[0mtimeout\u001b[0m\u001b[1;33m:\u001b[0m\u001b[1;33m\u001b[0m\u001b[1;33m\u001b[0m\u001b[0m\n\u001b[0;32m    671\u001b[0m                 \u001b[0mself\u001b[0m\u001b[1;33m.\u001b[0m\u001b[0m_timeout_occurred\u001b[0m \u001b[1;33m=\u001b[0m \u001b[1;32mTrue\u001b[0m\u001b[1;33m\u001b[0m\u001b[1;33m\u001b[0m\u001b[0m\n",
      "\u001b[1;32mC:\\ProgramData\\Anaconda3\\lib\\ssl.py\u001b[0m in \u001b[0;36mrecv_into\u001b[1;34m(self, buffer, nbytes, flags)\u001b[0m\n\u001b[0;32m   1239\u001b[0m                   \u001b[1;34m\"non-zero flags not allowed in calls to recv_into() on %s\"\u001b[0m \u001b[1;33m%\u001b[0m\u001b[1;33m\u001b[0m\u001b[1;33m\u001b[0m\u001b[0m\n\u001b[0;32m   1240\u001b[0m                   self.__class__)\n\u001b[1;32m-> 1241\u001b[1;33m             \u001b[1;32mreturn\u001b[0m \u001b[0mself\u001b[0m\u001b[1;33m.\u001b[0m\u001b[0mread\u001b[0m\u001b[1;33m(\u001b[0m\u001b[0mnbytes\u001b[0m\u001b[1;33m,\u001b[0m \u001b[0mbuffer\u001b[0m\u001b[1;33m)\u001b[0m\u001b[1;33m\u001b[0m\u001b[1;33m\u001b[0m\u001b[0m\n\u001b[0m\u001b[0;32m   1242\u001b[0m         \u001b[1;32melse\u001b[0m\u001b[1;33m:\u001b[0m\u001b[1;33m\u001b[0m\u001b[1;33m\u001b[0m\u001b[0m\n\u001b[0;32m   1243\u001b[0m             \u001b[1;32mreturn\u001b[0m \u001b[0msuper\u001b[0m\u001b[1;33m(\u001b[0m\u001b[1;33m)\u001b[0m\u001b[1;33m.\u001b[0m\u001b[0mrecv_into\u001b[0m\u001b[1;33m(\u001b[0m\u001b[0mbuffer\u001b[0m\u001b[1;33m,\u001b[0m \u001b[0mnbytes\u001b[0m\u001b[1;33m,\u001b[0m \u001b[0mflags\u001b[0m\u001b[1;33m)\u001b[0m\u001b[1;33m\u001b[0m\u001b[1;33m\u001b[0m\u001b[0m\n",
      "\u001b[1;32mC:\\ProgramData\\Anaconda3\\lib\\ssl.py\u001b[0m in \u001b[0;36mread\u001b[1;34m(self, len, buffer)\u001b[0m\n\u001b[0;32m   1097\u001b[0m         \u001b[1;32mtry\u001b[0m\u001b[1;33m:\u001b[0m\u001b[1;33m\u001b[0m\u001b[1;33m\u001b[0m\u001b[0m\n\u001b[0;32m   1098\u001b[0m             \u001b[1;32mif\u001b[0m \u001b[0mbuffer\u001b[0m \u001b[1;32mis\u001b[0m \u001b[1;32mnot\u001b[0m \u001b[1;32mNone\u001b[0m\u001b[1;33m:\u001b[0m\u001b[1;33m\u001b[0m\u001b[1;33m\u001b[0m\u001b[0m\n\u001b[1;32m-> 1099\u001b[1;33m                 \u001b[1;32mreturn\u001b[0m \u001b[0mself\u001b[0m\u001b[1;33m.\u001b[0m\u001b[0m_sslobj\u001b[0m\u001b[1;33m.\u001b[0m\u001b[0mread\u001b[0m\u001b[1;33m(\u001b[0m\u001b[0mlen\u001b[0m\u001b[1;33m,\u001b[0m \u001b[0mbuffer\u001b[0m\u001b[1;33m)\u001b[0m\u001b[1;33m\u001b[0m\u001b[1;33m\u001b[0m\u001b[0m\n\u001b[0m\u001b[0;32m   1100\u001b[0m             \u001b[1;32melse\u001b[0m\u001b[1;33m:\u001b[0m\u001b[1;33m\u001b[0m\u001b[1;33m\u001b[0m\u001b[0m\n\u001b[0;32m   1101\u001b[0m                 \u001b[1;32mreturn\u001b[0m \u001b[0mself\u001b[0m\u001b[1;33m.\u001b[0m\u001b[0m_sslobj\u001b[0m\u001b[1;33m.\u001b[0m\u001b[0mread\u001b[0m\u001b[1;33m(\u001b[0m\u001b[0mlen\u001b[0m\u001b[1;33m)\u001b[0m\u001b[1;33m\u001b[0m\u001b[1;33m\u001b[0m\u001b[0m\n",
      "\u001b[1;31mKeyboardInterrupt\u001b[0m: "
     ]
    }
   ],
   "source": [
    "data2['address_geo']=data.groupby(by='address')['address'].apply(geocode)"
   ]
  },
  {
   "cell_type": "code",
   "execution_count": null,
   "id": "7c4342ef",
   "metadata": {},
   "outputs": [],
   "source": [
    "ihu=data.groupby(by='address')['address']\n",
    "ihu.head()"
   ]
  }
 ],
 "metadata": {
  "kernelspec": {
   "display_name": "Python 3",
   "language": "python",
   "name": "python3"
  },
  "language_info": {
   "codemirror_mode": {
    "name": "ipython",
    "version": 3
   },
   "file_extension": ".py",
   "mimetype": "text/x-python",
   "name": "python",
   "nbconvert_exporter": "python",
   "pygments_lexer": "ipython3",
   "version": "3.8.8"
  }
 },
 "nbformat": 4,
 "nbformat_minor": 5
}
